{
 "cells": [
  {
   "metadata": {},
   "cell_type": "markdown",
   "source": "Notes: Change diagram number of qubits",
   "id": "25f783a5da003247"
  },
  {
   "metadata": {},
   "cell_type": "markdown",
   "source": [
    "<div style=\"font-family: 'Times New Roman'; font-size: 16px;\">\n",
    "\n",
    "# Quantum Linear Algebra\n",
    "The Harrow–Hassidim–Lloyd (HHL) algorithm [Project 1]  \n",
    "*By Sonny Lowe, David Lee, Arav Raval*\n",
    "\n",
    "</div>\n"
   ],
   "id": "7902a46b53b60da0"
  },
  {
   "metadata": {},
   "cell_type": "markdown",
   "source": [
    "<div style=\"font-family: 'Times New Roman'; font-size: 16px;\">\n",
    "\n",
    "This notebook will discuss the Harrow-Hassidim-Lloyd (HHL) quantum algorithm, meant for solving a linear system\n",
    "$$A\\vec{x}=\\vec{b} \\text{ ,  where } A \\text{ is a hermitian matrix}$$\n",
    "and where $\\vec{x}$ and $\\vec{b}$ ultimately represent quantum states $\\ket{x}$ and $\\ket{b}$ respectively. We will provide a derivation, implementation, generalization to non-hermitian matrices, as well as the context for HHL as a subroutine.\n",
    "\n",
    "Note: we will generally be working in the normalized domain.\n",
    "</div>"
   ],
   "id": "13c298c4c4b89370"
  },
  {
   "metadata": {},
   "cell_type": "markdown",
   "source": [
    "<div style=\"font-family: 'Times New Roman'; font-size: 16px;\">\n",
    "\n",
    "### Section 1: Mathematical Derivation\n",
    " \n",
    "Our problem is represented as \n",
    "$$A\\ket{x} = \\ket{b}$$\n",
    "where $\\ket{b} \\in \\mathbb{C}^N$ is some given quantum state and $A \\in \\mathbb{C}^{N\\times N}$. Our goal is to solve for $\\ket{x} \\in \\mathbb{C}^N$ under a few conditions:\n",
    "- $A$ is hermitian such that $A = A^\\dagger$\n",
    "- $A$ is $s$-sparse and well conditioned, meaning it has at most $s$ nonzero entries per row and its condition number  $\\kappa(A)$ is relatively small such that the system is stable and less sensitive to perturbations.\n",
    "We will break down the derivation into several steps.\n",
    "- We have access to an \"oracle\" of A in that we have its eigenvalues to use in our circuit (potential weakness).\n",
    "- We assume there exists some efficient algorithm to prepare $\\ket{b}$\n",
    "\n",
    "<br>\n",
    "\n",
    "#### **1. Rewriting and Initialization**\n",
    "Given that $A$ is a hermitian matrix, there exists a spectral decomposition such that the matrix can be diagonalized by unitary transformations.\n",
    "$$A = UDU^T,\\quad \\text{ where } U \\text{ is a unitary matrix and } D \\text{ is diagonal composed of the real eigenvalues of } A$$\n",
    "Since the columns of $U$ form an orthonormal basis and are the eigenvalues, we can rewrite this decomposition where $\\ket{u_{j}}$ is the $j^{th}$ eigenvector of $A$ with respective eigenvalue $\\lambda_{j}$ as:\n",
    "$$A = \\sum_{i=0}^{N-1}\\lambda_{i}\\ket{u_{i}}\\bra{u_{i}}, \\quad \\lambda_{i}\\in\\mathbb{ R }$$\n",
    "Likewise, as a linear transformation, we can write our resultant vector $\\ket{b}$ in the eigenbasis of $A$.\n",
    "$$\\ket{b} = \\sum_{i=0}^{N-1}b_{i}\\ket{u_{i}}, \\quad b_{i}\\in\\mathbb{ C }$$\n",
    "Thus, our problem can now be rewritten as:\n",
    "$$\\ket{x} = A^{-1}\\ket{b} = \\sum_{i=0}^{N-1}\\frac{1}{\\lambda_{i}}b_{i}\\ket{u_{i}}\\bra{u_{i}}u_{i}\\rangle = \\sum_{i=0}^{N-1}\\frac{1}{\\lambda_{i}}b_{i}\\ket{u_{i}}$$\n",
    "\n",
    "Moreover, note that to represent a state vector $\\ket{b}$ of dimension $N$, to prepare it as a quantum register, we prepare it in binary basis using $\\log_2{N}$ qubits. Therefore, from here on, $N = \\log_2{N}$.\n",
    "\n",
    "<br>\n",
    "\n",
    "#### **2. Quantum Phase Estimation**\n",
    "The problem first boils down to being able to decompose a matrix to find its eigenvalues and eigenvectors in a computationally efficient manner. At a high level, Quantum Phase Estimation is a procedure that performs a series of controlled-$U$ gates given some unitary matrix $U$ with eigenvalues of the form $e^{2\\pi i \\theta}$, and finds $\\theta$\n",
    "\n",
    "The number of qubits required for QPE is defined by the required additive error epsilon $\\epsilon$, where we will set $n_q = O(\\log{\\frac{1}{\\epsilon}})$ representing the number of qubits needed.\n",
    "\n",
    "For HHL, first, we start with two registers $\\ket{0}^{\\otimes n_q}$ and $\\ket{b}$. Our initial state is thus $\\ket{\\Phi_0} = \\ket{0}^{\\otimes n_q} \\otimes \\ket{b}.$ Then we can characterize the behavior of **QPE** as:\n",
    "$$\\textbf{QPE}(U,\\ket{0}^{\\otimes n_q},\\ket{b}) = \\textbf{QPE}(U,\\ket{0}^{\\otimes n_q},\\sum_{j=0}^{N-1}b_{j}\\ket{u_{j}}) = \\sum_{j=0}^{N-1}b_{j} \\ket{\\lambda_{j}}_{n_q}  \\ket{u_{j}}, \\quad\\text{ for some clever choice of } U$$\n",
    "\n",
    "We will choose $U = e^{iAt}$ for some constant $t$ such that $U$ is governed by the same eigenvalues of $A$ and we have that, where $\\ket{u_{j}}$ is the $j^{th}$ eigenvector of $A$ with respective eigenvalue $\\lambda_{j}$:\n",
    "$$U = e^{iAt} = \\sum_{j=0}^{N-1}e^{i\\lambda_{j}t}\\ket{u_j}\\bra{u_j}$$\n",
    "\n",
    ">1. First, we hadamard our first register of $\\ket{0}^{\\otimes n_q}$. $H^{\\otimes n_q}\\ket{\\Phi_0} = \\frac{1}{2^{n/2}}(\\ket{0} + \\ket{1})^{\\otimes n_q} \\otimes \\ket{b}$\n",
    ">2. Next, we perform a series of $n_q$ controlled-$U$ gates such that for $k = {0, 1,...,n_q-1}$ (notice $|k| = n_q$), we create the gate (where $\\ket{k}$ is the k-th qubit in the $n_q$ registrar and t is some evolution time): \n",
    "$$CU^{2^k}(\\ket{k}, \\ket{b}) =_{\\text{if} \\ket{k}=\\ket{1}} \\ket{k} \\otimes U^{2^k}\\ket{b} = \\ket{k} \\otimes \\sum_{j=0}^{N-1}e^{i\\lambda_{j}t2^k}b_{j}\\ket{u_{j}}\\bra{u_{j}}u_{j}\\rangle = \\ket{k} \\otimes \\sum_{j=0}^{N-1}e^{i\\lambda_{j}t2^k}b_{j}\\ket{u_{j}} $$\n",
    "The composition of all N of these such gates yields the state (with normalization):\n",
    "$$ \\sum_{j=0}^{N-1} \\left( \\left( \\frac{1}{\\sqrt{2^{n_q}}} \\sum_{k=0}^{n_q-1} e^{i 2^k \\lambda_j t} \\ket{k} \\right) \\otimes b_j \\ket{u_j} \\right)$$\n",
    " >3. Consider just our $n_q$ (control) register, which is now superposed through unitary entanglements to the state:\n",
    " $$ \\frac{1}{\\sqrt{2^n}} \\sum_{k=0}^{n_q-1} e^{i 2^k \\lambda_j t} \\ket{k} $$\n",
    " $$ \\text{where the phase factor is }\\quad \\lambda_i t = 2\\pi\\theta $$\n",
    " It is clear now that the encoded phase factor we desire (which represents the eigenvalues of $A$), can be extracted through the inverse quantum fourier transform operation. Thus, applying **QFT$^{-1}$** has the following behavior:\n",
    " $$\\textbf{QTF}^{-1}(\\frac{1}{\\sqrt{2^n}} \\sum_{k=0}^{2^{N-1}} e^{i k \\lambda_j t} \\ket{k}) \\mapsto \\ket{\\theta 2^{n_q}} \\quad\\text{ which encodes } \\theta_j 2^{n_q} = \\lambda_j t / 2\\pi \\quad\\Rightarrow \\tilde{\\lambda_j} = \\frac{\\lambda_j t 2^{n_q}}{2\\pi}$$\n",
    " If we set $t=\\pi l$ for some constant $l$, we have essentially calculated an approximation of our actual eigenvalues after normalization. We will also assume for simplicity and without significant loss of accuracy that our eigenvalues can be represented in $n_q$ qubits. We will also set $t=\\pi$. Thus, for our total state, we are left with:\n",
    " $$\\sum_{j=0}^{N-1}\\ket{\\tilde{\\lambda_j}}\\otimes b_{j}\\ket{u_j}$$\n",
    "\n",
    "<br>\n",
    "\n",
    "#### **3. Controlled Rotation**\n",
    "With our new intermediate state $\\sum_{j=0}^{N-1}\\ket{\\tilde{\\lambda_{j}}} \\otimes b_{j}\\ket{u_{j}} = \\ket{\\tilde{\\lambda}} \\otimes \\ket{b}$ (working in normalized domain), our next problem is to produce the \"inverse eigenvalue.\" We will do this by applying a series of controlled rotations. These rotations will utilize the control register which now encodes the eigenvalues applied onto a new ancilla register that will extract $\\frac{1}{\\lambda}$. (Checkpoint: by now, we have created 3 registers with a total state of $\\ket{\\tilde{\\lambda}}_{n_q} \\otimes \\ket{b}_N \\otimes \\ket{0}_{ancilla}$)\n",
    "\n",
    "To do this, we will encode the ancilla qubit to the following state:\n",
    "$$\\ket{0}_{ancilla} \\mapsto \\sum_{j=0}^{N-1} \\sqrt{1 - \\left(\\frac{C}{\\tilde{\\lambda_j}}\\right)^2}\\ket{0}+\\frac{C}{\\tilde{\\lambda_j}}\\ket{1}, \\quad\\text{ where } C < \\min_{j}\\tilde{\\lambda_j}$$\n",
    "Considering the general state $\\ket{\\psi} = \\cos(\\theta/2)\\ket{0} + e^{i\\phi}\\sin(\\theta/2)\\ket{1}$ allows us to clearly see that $\\theta_j = 2\\arcsin(C/\\tilde{\\lambda_j}) \\quad \\forall j$. We are left with\n",
    " $$\\sum_{j=0}^{N-1}\\ket{\\tilde{\\lambda_j}}\\otimes b_{j}\\ket{u_j} \\otimes \\sqrt{1 - \\left(\\frac{C}{\\tilde{\\lambda_j}}\\right)^2}\\ket{0}+\\frac{C}{\\tilde{\\lambda_j}}\\ket{1}$$\n",
    "\n",
    "<br>\n",
    "\n",
    "#### **4. Uncompute**\n",
    "Next, we want to uncompute our eigenvalue register by applying the dagger of QPE. This consists of first applying QFT, then simplying applying the conditioned inverse of the unitary matrix $U$ followed by hadamards. We are left with a scaled approximation:\n",
    " $$\\sum_{j=0}^{N-1}\\ket{0}\\otimes b_{j}\\ket{u_j} \\otimes \\sqrt{1 - \\left(\\frac{C}{\\tilde{\\lambda_j}}\\right)^2}\\ket{0}+\\frac{C}{\\lambda_j}\\ket{1}$$\n",
    "\n",
    "<br>\n",
    "\n",
    "#### **5. Measure Ancillas**\n",
    "Finall, we will measure the ancilla, which after normalization, yields the post measurement state if our ancillas have the desired outcome of $\\ket{1}$ in the form:\n",
    "$$\\sum_{j=0}^{N-1}\\frac{1}{\\lambda_{j}}b_{j}\\ket{u_{j}}\\ket{1}_{ancilla}$$\n",
    "It is here that we see that this process is not deterministic and can fail up to a probability if our ancilla is in $\\ket{0}$. Thus, we will repeat the process of steps 2-4 until success (ancilla is $\\ket{1}$).\n",
    "\n",
    "<br>\n",
    "\n",
    "#### **6. Extracting Answer**\n",
    "We can see now that our registers hold our solution in the form of $A^{-1}\\ket{b}$. However, since the state $\\ket{x}$ is determined in our registers as a superposition, we cannot measure the full state in one shot without collapsing it to a single basis state. However, by measuring certain observables, you can gain useful information about the state without fully collapsing it. The quantum expectation value $\\bra{x}M\\ket{x}$ for a given observable $M$ is useful in the context of a subroutine because it can allow us to:\n",
    "- obtain information about the solution $\\ket{x}$ for instance, the probability distribution of components of $\\ket{x}$ in a particular basis).\n",
    "- Measure a function of the solution, such as a dot product or a norm, which might be useful in applications without needing the full solution.\n",
    "\n",
    "<br>\n",
    "\n",
    "#### **Our overall circuit diagram:**\n",
    "<img src=\"./assets/schematic-1.png\" alt=\"General Design\" width=\"600\" />\n",
    "\n",
    "</div>"
   ],
   "id": "7cd0ffd3d4183751"
  },
  {
   "metadata": {},
   "cell_type": "markdown",
   "source": [
    "<div style=\"font-family: 'Times New Roman'; font-size: 16px;\">\n",
    "\n",
    "### Section 2: Generalization to Non-Hermitian\n",
    "The case where $A \\in \\mathbb{C}^{N\\times N}$ is not hermitian is actually quite easy to resolve. Simply construct a new matrix $C \\in \\mathbb{C}^{2N \\times 2N}$:\n",
    "$$ C = \\begin{bmatrix}0&A\\\\A^{\\dagger}&0\\end{bmatrix} $$\n",
    "Notice that $C$ is immediately hermitian:\n",
    "$$ C^{\\dagger} = \\begin{bmatrix}0&A^{\\dagger}\\\\A^{\\dagger^{\\dagger}}&0\\end{bmatrix}^T = \\begin{bmatrix}0&A\\\\A^{\\dagger}&0\\end{bmatrix} $$\n",
    "and the properties of sparesness and well conditioning remain relative to this new matrix.\n",
    "\n",
    "Notice now that our problem changes as such:\n",
    "$$A\\vec{x}=\\vec{b} \\text{ ,  where } A \\text{ is non-hermitian} \\quad\\Rightarrow\\quad C\\begin{bmatrix}0\\\\x\\end{bmatrix} = \\begin{bmatrix}b\\\\0\\end{bmatrix} \\text{ ,  where } C \\text{ is a hermitian matrix} $$\n",
    "</div>"
   ],
   "id": "3eac5148b822d5c"
  },
  {
   "metadata": {},
   "cell_type": "markdown",
   "source": [
    "<div style=\"font-family: 'Times New Roman'; font-size: 16px;\">\n",
    "\n",
    "### Section 3: Sample Implementation\n",
    "\n",
    "<br>\n",
    "\n",
    "This project utilizes IBM's Qiskit \n",
    "- qiskit == 0.44.2\n",
    "- qiskit-aer == 0.12.2\n",
    "- qiskit-terra == 0.25.2.1\n",
    "\n",
    "</div>"
   ],
   "id": "b8a81be226284cbe"
  },
  {
   "metadata": {
    "ExecuteTime": {
     "end_time": "2024-12-10T05:34:05.295705Z",
     "start_time": "2024-12-10T05:34:05.292814Z"
    }
   },
   "cell_type": "code",
   "source": [
    "# Some generic python and jupyter imports\n",
    "import numpy as np\n",
    "from numpy import pi,sqrt\n",
    "\n",
    "from qiskit import(QuantumCircuit, execute, Aer, ClassicalRegister, QuantumRegister)\n",
    "backend_svec = Aer.get_backend('statevector_simulator')\n",
    "backend_qasm = Aer.get_backend('qasm_simulator')\n",
    "\n",
    "# Circuit imports\n",
    "from qiskit.extensions import UnitaryGate\n",
    "from qiskit.circuit.library import QFT\n",
    "\n",
    "# Visualizations\n",
    "from qiskit.visualization import plot_histogram\n",
    "import matplotlib.pyplot as plt# implementation of a sample case here"
   ],
   "id": "3f975abfbf612d5",
   "outputs": [],
   "execution_count": 80
  },
  {
   "metadata": {
    "ExecuteTime": {
     "end_time": "2024-12-10T17:49:46.051816Z",
     "start_time": "2024-12-10T17:49:46.042063Z"
    }
   },
   "cell_type": "code",
   "source": [
    "def prepare_hhlparams(\n",
    "        A: np.ndarray,\n",
    "        b: np.ndarray,\n",
    "        tol: float,\n",
    ")-> (np.ndarray, np.ndarray, np.ndarray, np.ndarray, int, int):\n",
    "    if not isinstance(A, np.ndarray) or A.ndim != 2:\n",
    "        raise TypeError('A must be a 2D numpy matrix')\n",
    "    elif not isinstance(b, np.ndarray) or b.ndim != 1:\n",
    "        raise TypeError('b must be a 1D numpy matrix')\n",
    "    elif A.shape[0] != A.shape[1]:\n",
    "        raise ValueError(\"A must be a square matrix.\")\n",
    "    elif A.shape[0] != b.size: \n",
    "        raise ValueError(\"Invalid dimensions for linear system.\")\n",
    "    elif np.linalg.det(A) == 0:\n",
    "        raise ValueError(\"A must an invertible matrix.\")\n",
    "    \n",
    "    # verify matrix sparsity, well conditioned, here\n",
    "    # do we need that b be normalized as given?\n",
    "    \n",
    "    n = len(b)\n",
    "    nb = int(np.ceil(np.log2(n)))\n",
    "    nq = int(np.log(1/tol))\n",
    "    N = 2**nb\n",
    "    \n",
    "    # Create C\n",
    "    A_pad = np.zeros((N,N), dtype=A.dtype)\n",
    "    A_pad[:n, :n] = A\n",
    "    # C = np.block([[np.zeros_like(A_pad), A_pad], [np.conj(A_pad.T), np.zeros_like(A_pad)]])\n",
    "    C = A\n",
    "    \n",
    "    # Prepare b\n",
    "    b_pad = np.pad(b, (0, (C.shape[0]) - len(b)))\n",
    "    \n",
    "    t = pi\n",
    "    eigenvalues, eigenvectors = np.linalg.eigh(C)   \n",
    "    \n",
    "    # Create thetas (rotation angles) \n",
    "    C_coeff = 1 # C_coeff = np.min(eigenvalues) /2\n",
    "    tilde_eigenvalues = (eigenvalues * t * 2**nq) / (2 * pi)\n",
    "    C_over_rescaled_eigenvalues = np.array(C_coeff/tilde_eigenvalues, dtype=complex)\n",
    "    thetas = 2 * np.arcsin(C_over_rescaled_eigenvalues)\n",
    "        \n",
    "    # Create U\n",
    "    exp_diag = np.diag(np.exp(1j * eigenvalues * t))\n",
    "    U = eigenvectors @ exp_diag @ eigenvectors.conj().T\n",
    "        \n",
    "    # return C, b_pad, U, thetas, 2*nb, nq\n",
    "    return C, b_pad, U, thetas, nb, nq\n",
    "    "
   ],
   "id": "6d4723da6f1f3113",
   "outputs": [],
   "execution_count": 163
  },
  {
   "metadata": {
    "ExecuteTime": {
     "end_time": "2024-12-10T18:03:40.648032Z",
     "start_time": "2024-12-10T18:03:40.459584Z"
    }
   },
   "cell_type": "code",
   "source": [
    "def hhl_circuit(\n",
    "        A: np.ndarray,\n",
    "        b: np.ndarray,\n",
    "        tol: float = 1e-1,\n",
    ") -> QuantumCircuit:\n",
    "    \"\"\"    \n",
    "    :param A: A numpy matrix \n",
    "    :param b: A numpy vector\n",
    "    :return: A quantum circuit for the hhl algorithm\n",
    "    \"\"\"\n",
    "\n",
    "    A, b, U, thetas, nb, nq = prepare_hhlparams(A, b, tol)\n",
    "    n_b = QuantumRegister(nb, 'b')\n",
    "    n_q = QuantumRegister(nq, 'QPE')\n",
    "    n_a = QuantumRegister(1, 'aux')\n",
    "    cb = ClassicalRegister(2,'cb')\n",
    "  \n",
    "    # INITIALIZATION CIRCUIT\n",
    "    init_circ = QuantumCircuit(n_b, n_q, n_a, cb)\n",
    "    init_circ.initialize(b / np.linalg.norm(b), list(range(nb)))\n",
    "    init_circ.barrier()\n",
    "    \n",
    "    # QPE CIRCUIT\n",
    "    qpe_circ = QuantumCircuit(n_b, n_q, n_a, cb)\n",
    "    qpe_circ.h(n_q)\n",
    "    for i in range(nq):\n",
    "        U_k = np.linalg.matrix_power(U, 2**i)\n",
    "        label = \"$U^{2^\" + str(i) + \"}$\"\n",
    "        CU_gate = UnitaryGate(U_k, label=label).control(1)\n",
    "        qpe_circ.append(CU_gate, list(np.concatenate(([nb+i], np.arange(nb)))))\n",
    "    qpe_circ.append(QFT(nq, inverse=True), n_q)\n",
    "    qpe_circ.barrier()\n",
    "    \n",
    "    # EIGENVALUE ROTATION CIRCUIT\n",
    "    eigrot_circ = QuantumCircuit(n_b, n_q, n_a, cb)\n",
    "    for i in range(nq):\n",
    "        eigrot_circ.cry(thetas[i].real, n_q[i], n_a) \n",
    "    eigrot_circ.barrier()\n",
    "    \n",
    "    # UNCOMPUTING QPE CIRCUIT\n",
    "    U_dag = np.conj(U.T)\n",
    "    qpe_dag_circ = QuantumCircuit(n_b, n_q, n_a, cb)\n",
    "    qpe_dag_circ.append(QFT(nq, inverse=False), n_q)\n",
    "    for i in range(nq-1, -1, -1):\n",
    "        U_dag_k = np.linalg.matrix_power(U_dag, 2**i)\n",
    "        label = \"$(U^{2^\" + str(i) + \")^\\dagger}$\"\n",
    "        CU_gate = UnitaryGate(U_dag_k, label=label).control(1)\n",
    "        qpe_dag_circ.append(CU_gate, list(np.concatenate(([nb+i], np.arange(nb)))))\n",
    "    qpe_dag_circ.h(n_q)\n",
    "    qpe_dag_circ.barrier()\n",
    "    \n",
    "    # MEASURING ANCILLA \n",
    "    measure_circ = QuantumCircuit(n_b, n_q, n_a, cb)\n",
    "    measure_circ.measure(n_a, cb[0])\n",
    "    measure_circ.measure(n_b, cb[1])\n",
    "    measure_circ.barrier()\n",
    "    \n",
    "    circuit = init_circ.compose(qpe_circ)\n",
    "    circuit = circuit.compose(eigrot_circ)\n",
    "    circuit = circuit.compose(qpe_dag_circ)\n",
    "    circuit = circuit.compose(measure_circ)\n",
    "\n",
    "    return circuit\n",
    "    \n",
    "A = np.array([[3/4, 1/4],\n",
    "              [1/4, 3/4]], dtype=complex)\n",
    "b = np.array([0,1], dtype=complex)\n",
    "hhl = hhl_circuit(A, b)\n",
    "hhl.draw('mpl')"
   ],
   "id": "d4d2a0dbb961f6fa",
   "outputs": [
    {
     "name": "stderr",
     "output_type": "stream",
     "text": [
      "/opt/anaconda3/envs/ece396_2024/lib/python3.11/site-packages/numpy/linalg/linalg.py:2180: RuntimeWarning: divide by zero encountered in det\n",
      "  r = _umath_linalg.det(a, signature=signature)\n",
      "/opt/anaconda3/envs/ece396_2024/lib/python3.11/site-packages/numpy/linalg/linalg.py:2180: RuntimeWarning: invalid value encountered in det\n",
      "  r = _umath_linalg.det(a, signature=signature)\n"
     ]
    },
    {
     "data": {
      "text/plain": [
       "<Figure size 1832.15x451.5 with 1 Axes>"
      ],
      "image/png": "[encoded data removed]"
     },
     "execution_count": 182,
     "metadata": {},
     "output_type": "execute_result"
    }
   ],
   "execution_count": 182
  },
  {
   "metadata": {
    "ExecuteTime": {
     "end_time": "2024-12-10T17:56:50.613268Z",
     "start_time": "2024-12-10T17:56:50.558548Z"
    }
   },
   "cell_type": "code",
   "source": [
    "job = execute(hhl, backend=backend_qasm, shots=2**13)\n",
    "counts = job.result().get_counts()\n",
    "plot_histogram(counts)"
   ],
   "id": "9fa7adc2ecda4435",
   "outputs": [
    {
     "data": {
      "text/plain": [
       "<Figure size 700x500 with 1 Axes>"
      ],
      "image/png": "[encoded data removed]"
     },
     "execution_count": 180,
     "metadata": {},
     "output_type": "execute_result"
    }
   ],
   "execution_count": 180
  },
  {
   "metadata": {
    "ExecuteTime": {
     "end_time": "2024-12-10T17:36:44.638413Z",
     "start_time": "2024-12-10T17:36:44.626011Z"
    }
   },
   "cell_type": "code",
   "source": [
    "import numpy as np\n",
    "\n",
    "def generate_unitary_for_qpe(A, t):\n",
    "    \"\"\"\n",
    "    Generate the unitary matrix U = exp(iAt) for QPE.\n",
    "\n",
    "    :param A: np.ndarray, Hermitian matrix A\n",
    "    :param t: float, scaling factor\n",
    "    :return: np.ndarray, unitary matrix U\n",
    "    \"\"\"\n",
    "    # Check if A is Hermitian\n",
    "    if not np.allclose(A, A.conj().T):\n",
    "        raise ValueError(\"Matrix A must be Hermitian.\")\n",
    "    \n",
    "    # Eigen-decomposition of A\n",
    "    eigenvalues, eigenvectors = np.linalg.eigh(A)\n",
    "    \n",
    "    # Compute e^(i * Lambda * t)\n",
    "    exp_diag = np.diag(np.exp(1j * eigenvalues * t))\n",
    "    \n",
    "    # Compute U = V @ exp_diag @ V^dagger\n",
    "    U = eigenvectors @ exp_diag @ eigenvectors.conj().T\n",
    "    \n",
    "    return U\n",
    "\n",
    "# Example usage:\n",
    "A = np.array([[3/4, 1/4],\n",
    "              [1/4, 3/4]], dtype=complex)\n",
    "t = np.pi\n",
    "U = generate_unitary_for_qpe(A, t)\n",
    "print(\"Unitary matrix U:\\n\", U)\n"
   ],
   "id": "27a96cd9271e5436",
   "outputs": [
    {
     "name": "stdout",
     "output_type": "stream",
     "text": [
      "Unitary matrix U:\n",
      " [[-0.5+0.5j -0.5-0.5j]\n",
      " [-0.5-0.5j -0.5+0.5j]]\n"
     ]
    }
   ],
   "execution_count": 142
  },
  {
   "metadata": {},
   "cell_type": "markdown",
   "source": [
    "<div style=\"font-family: 'Times New Roman'; font-size: 16px;\">\n",
    "\n",
    "### Section 4: Subroutines\n",
    "\n",
    "</div>"
   ],
   "id": "e71cd81a945a07ae"
  },
  {
   "metadata": {
    "ExecuteTime": {
     "end_time": "2024-12-10T01:57:57.769347Z",
     "start_time": "2024-12-10T01:57:57.767683Z"
    }
   },
   "cell_type": "code",
   "source": "# implementation of subroutines",
   "id": "8838fe1daacf2d3e",
   "outputs": [],
   "execution_count": 5
  }
 ],
 "metadata": {
  "kernelspec": {
   "display_name": "Python 3",
   "language": "python",
   "name": "python3"
  },
  "language_info": {
   "codemirror_mode": {
    "name": "ipython",
    "version": 2
   },
   "file_extension": ".py",
   "mimetype": "text/x-python",
   "name": "python",
   "nbconvert_exporter": "python",
   "pygments_lexer": "ipython2",
   "version": "2.7.6"
  }
 },
 "nbformat": 4,
 "nbformat_minor": 5
}
