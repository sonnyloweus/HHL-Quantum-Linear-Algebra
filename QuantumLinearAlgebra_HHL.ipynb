{
 "cells": [
  {
   "metadata": {},
   "cell_type": "markdown",
   "source": [
    "<div style=\"font-family: 'Times New Roman'; font-size: 16px;\">\n",
    "\n",
    "# Quantum Linear Algebra\n",
    "The Harrow–Hassidim–Lloyd (HHL) algorithm [Project 1]  \n",
    "*By Sonny Lowe, David Lee, Arav Raval*\n",
    "\n",
    "</div>\n"
   ],
   "id": "7902a46b53b60da0"
  },
  {
   "metadata": {},
   "cell_type": "markdown",
   "source": [
    "<div style=\"font-family: 'Times New Roman'; font-size: 16px;\">\n",
    "\n",
    "This notebook will discuss the Harrow-Hassidim-Lloyd (HHL) quantum algorithm, meant for solving a linear system\n",
    "$$A\\vec{x}=\\vec{b} \\text{ ,  where } A \\text{ is a hermitian matrix}$$\n",
    "and where $\\vec{x}$ and $\\vec{b}$ ultimately represent quantum states $\\ket{x}$ and $\\ket{b}$ respectively. We will provide a derivation, implementation, generalization to non-hermitian matrices, as well as the context for HHL as a subroutine.\n",
    "\n",
    "Note: we will generally be working in the normalized domain.\n",
    "</div>"
   ],
   "id": "13c298c4c4b89370"
  },
  {
   "metadata": {},
   "cell_type": "markdown",
   "source": [
    "<div style=\"font-family: 'Times New Roman'; font-size: 16px;\">\n",
    "\n",
    "### Section 1: Mathematical Derivation\n",
    " \n",
    "Our problem is represented as \n",
    "$$A\\ket{x} = \\ket{b}$$\n",
    "where $\\ket{b} \\in \\mathbb{C}^N$ is some given quantum state and $A \\in \\mathbb{C}^{N\\times N}$. Our goal is to solve for $\\ket{x} \\in \\mathbb{C}^N$ under a few conditions:\n",
    "- $A$ is hermitian such that $A = A^\\dagger$\n",
    "- $A$ is $s$-sparse and well conditioned, meaning it has at most $s$ nonzero entries per row and its condition number  $\\kappa(A)$ is relatively small such that the system is stable and less sensitive to perturbations.\n",
    "We will break down the derivation into several steps.\n",
    "- We have access to an \"oracle\" of A in that we have its eigenvalues to use in our circuit (potential weakness).\n",
    "\n",
    "<br>\n",
    "\n",
    "#### **1. Rewriting**\n",
    "Given that $A$ is a hermitian matrix, there exists a spectral decomposition such that the matrix can be diagonalized by unitary transformations.\n",
    "$$A = UDU^T,\\quad \\text{ where } U \\text{ is a unitary matrix and } D \\text{ is diagonal composed of the real eigenvalues of } A$$\n",
    "Since the columns of $U$ form an orthonormal basis and are the eigenvalues, we can rewrite this decomposition where $|u_{i}\\rangle$ is the $i^{th}$ eigenvector of $A$ with respective eigenvalue $\\lambda_{i}$ as:\n",
    "$$A = \\sum_{i=0}^{N-1}\\lambda_{i}\\ket{u_{i}}\\bra{u_{i}}, \\quad \\lambda_{i}\\in\\mathbb{ R }$$\n",
    "Likewise, as a linear transformation, we can write our resultant vector $\\ket{b}$ in the eigenbasis of $A$.\n",
    "$$\\ket{b} = \\sum_{i=0}^{N-1}b_{i}\\ket{u_{i}}, \\quad b_{i}\\in\\mathbb{ C }$$\n",
    "Thus, our problem can now be rewritten as:\n",
    "$$\\ket{x} = A^{-1}\\ket{b} = \\sum_{i=0}^{N-1}\\frac{1}{\\lambda_{i}}b_{i}\\ket{u_{i}}\\bra{u_{i}}u_{i}\\rangle = \\sum_{i=0}^{N-1}\\frac{1}{\\lambda_{i}}b_{i}\\ket{u_{i}}$$\n",
    "\n",
    "<br>\n",
    "\n",
    "#### **2. Quantum Phase Estimation**\n",
    "The problem first boils down to being able to decompose a matrix to find its eigenvalues and eigenvectors in a computationally efficient manner. At a high level, Quantum Phase Estimation is a procedure that performs a series of controlled-$U$ gates given some unitary matrix $U$ with eigenvalues of the form $e^{2\\pi i \\theta}$, and finds $\\theta$.\n",
    "\n",
    "For HHL, first, we start with two registers $\\ket{0}^{\\otimes N}$ and $\\ket{b}$. Our initial state is thus $\\ket{\\Phi_0} = \\ket{0}^{\\otimes N} \\otimes \\ket{b}.$ Then we can characterize the behavior of **QPE** as:\n",
    "$$\\textbf{QPE}(U,\\ket{0}^{\\otimes N},\\ket{b}) = \\textbf{QPE}(U,\\ket{0}^{\\otimes N},\\sum_{j=0}^{N-1}b_{j}\\ket{u_{j}}) = \\sum_{j=0}^{N-1}\\ket{\\lambda_{j}}b_{j}\\ket{u_{j}}, \\quad\\text{ for some clever choice of } U$$\n",
    "\n",
    "We will choose $U = e^{iAt}$ for some constant $t$ such that $U$ is governed by the same eigenvalues of $A$ and we have that, where $|u_{i}\\rangle$ is the $i^{th}$ eigenvector of $A$ with respective eigenvalue $\\lambda_{i}$:\n",
    "$$U = e^{iAt} = \\sum_{j=0}^{N-1}e^{i\\lambda_{j}t}\\ket{u_j}\\bra{u_j}$$\n",
    "\n",
    ">1. First, we hadamard our first register of $\\ket{0}^{\\otimes N}$. $H^{\\otimes N}\\ket{\\Phi_0} = \\frac{1}{2^{n/2}}(\\ket{0} + \\ket{1})^{\\otimes N} \\otimes \\ket{b}$\n",
    ">2. Next, we perform a series of $N$ controlled-$U$ gates such that for $k = {0, 1,...,N-1}$ (notice $|k| = N$), we create the gate where $\\ket{k}$ is the k-th qubit in the first registrar: \n",
    "$$CU^{2^k}(\\ket{k}, \\ket{b}) =_{\\text{if} \\ket{k}=\\ket{1}} \\ket{k} \\otimes U^{2^k}\\ket{b} = \\ket{k} \\otimes \\sum_{j=0}^{N-1}e^{i\\lambda_{j}t2^k}b_{j}\\ket{u_{j}}\\bra{u_{j}}u_{j}\\rangle = \\ket{k} \\otimes \\sum_{j=0}^{N-1}e^{i\\lambda_{j}t2^k}b_{j}\\ket{u_{j}} $$\n",
    "The composition of all N of these such gates yields the state (with normalization) where $k = {2^0, 2^1,...,2^{N-1}}$:\n",
    "$$ \\sum_{j=0}^{N-1} \\left( \\left( \\frac{1}{\\sqrt{2^n}} \\sum_{k=0}^{2^{n-1}} e^{i k \\lambda_j t} \\ket{k} \\right) \\otimes b_j \\ket{u_j} \\right)$$\n",
    " >3. Now, it is clear that the phase factor actually depends on the control qubits, and so we consider just our first (control) register, which is now superposed through unitary entanglements to the state:\n",
    " $$ \\frac{1}{\\sqrt{2^n}} \\sum_{k=0}^{2^{n-1}} e^{i k \\lambda_j t} \\ket{k} $$\n",
    " $$ \\text{where the phase factor is }\\quad \\lambda_i t = 2\\pi\\theta $$\n",
    " It is clear now that the encoded phase factor we desire (which represents the eigenvalues of $A$), can be extracted through the inverse quantum fourier transform operation. Thus, applying **QFT$^{-1}$** has the following behavior:\n",
    " $$\\textbf{QTF}^{-1}(\\frac{1}{\\sqrt{2^n}} \\sum_{k=0}^{2^{n-1}} e^{i k \\lambda_j t} \\ket{k}) \\mapsto \\ket{\\theta} \\quad\\text{ which encodes } \\theta_j = \\lambda_j t / 2\\pi = \\tilde{\\lambda_j}$$\n",
    " If we set $t=2\\pi l$ for some constant $l$, we have essentially calculated an approximation of our actual eigenvalues after normalization. Thus, for our total state, we are left with:\n",
    " $$\\sum_{j=0}^{N-1}\\ket{\\tilde{\\lambda_j}}\\otimes b_{j}\\ket{u_j}$$\n",
    "\n",
    "<br>\n",
    "\n",
    "#### **3. Controlled Rotation**\n",
    "With our new intermediate state $\\sum_{j=0}^{N-1}\\ket{\\tilde{\\lambda_{j}}} \\otimes b_{j}\\ket{u_{j}} = \\ket{\\tilde{\\lambda}} \\otimes \\ket{b} \\approx \\ket{\\lambda} \\otimes \\ket{b}$ (working in normalized domain), our next problem is to produce the \"inverse eigenvalue.\" We will do this by applying a series of controlled rotations. These rotations will utilize the control register which now encodes the eigenvalues applied onto a new ancilla register that will extract $\\frac{1}{\\lambda}$. (Checkpoint: by now, we have created 3 registers with a total state of $\\ket{\\lambda} \\otimes \\ket{b} \\otimes \\ket{0}_{ancilla}$)\n",
    "\n",
    "To do this, we will encode the ancilla qubits to the following state:\n",
    "$$\\ket{0}_{ancilla} \\mapsto \\sqrt{1 - \\left(\\frac{C}{\\lambda}\\right)^2}\\ket{0}+\\frac{C}{\\lambda}\\ket{1}, \\quad\\text{ where } C < \\min_{j}\\lambda_j$$\n",
    "Considering the general state $\\ket{\\psi} = \\cos(\\theta/2)\\ket{0} + e^{i\\phi}\\sin(\\theta/2)\\ket{1}$ allows us to clearly see that $\\theta_j = 2\\arcsin(C/\\lambda_j) \\quad \\forall j$. We are left with\n",
    " $$\\sum_{j=0}^{N-1}\\ket{\\lambda_j}\\otimes b_{j}\\ket{u_j} \\otimes \\sqrt{1 - \\left(\\frac{C}{\\lambda}\\right)^2}\\ket{0}+\\frac{C}{\\lambda}\\ket{1}$$\n",
    "\n",
    "<br>\n",
    "\n",
    "#### **4. Uncompute**\n",
    "Next, we want to uncompute our eigenvalue register by applying the dagger of QPE. This consists of first applying QFT, then simplying applying the conditioned inverse of the unitary matrix $U$ followed by hadamards. We are left with:\n",
    " $$\\sum_{j=0}^{N-1}\\ket{0}\\otimes b_{j}\\ket{u_j} \\otimes \\sqrt{1 - \\left(\\frac{C}{\\lambda}\\right)^2}\\ket{0}+\\frac{C}{\\lambda}\\ket{1}$$\n",
    "\n",
    "<br>\n",
    "\n",
    "#### **5. Measure Ancillas**\n",
    "Finall, we will measure the ancillas, which after normalization, yields the post measurement state if our ancillas have the desired outcome of $\\ket{1}$ in the form:\n",
    "$$\\sum_{i=0}^{N-1}\\frac{1}{\\lambda_{i}}b_{i}\\ket{u_{i}}\\ket{1}_{ancilla}$$\n",
    "It is here that we see that this process is not deterministic and can fail up to a probability if our ancilla is in $\\ket{0}$. Thus, we will repeat the process of steps 2-4 until success.\n",
    "\n",
    "<br>\n",
    "\n",
    "#### **6. Extracting Answer**\n",
    "We can see now that our registers hold our solution in the form of $A^{-1}\\ket{b}$. However, since the state $\\ket{x}$ is determined in our registers as a superposition, we cannot measure the full state in one shot without collapsing it to a single basis state. However, by measuring certain observables, you can gain useful information about the state without fully collapsing it. The quantum expectation value $\\bra{x}M\\ket{x}$ for a given observable $M$ is useful in the context of a subroutine because it can allow us to:\n",
    "- obtain information about the solution $\\ket{x}$ for instance, the probability distribution of components of $\\ket{x}$ in a particular basis).\n",
    "- Measure a function of the solution, such as a dot product or a norm, which might be useful in applications without needing the full solution.\n",
    "\n",
    "<br>\n",
    "\n",
    "#### **Our overall circuit diagram:**\n",
    "</div>"
   ],
   "id": "7cd0ffd3d4183751"
  },
  {
   "metadata": {},
   "cell_type": "markdown",
   "source": [
    "<div style=\"font-family: 'Times New Roman'; font-size: 16px;\">\n",
    "\n",
    "### Section 2: Generalization to Non-Hermitian\n",
    "\n",
    "</div>"
   ],
   "id": "3eac5148b822d5c"
  },
  {
   "metadata": {},
   "cell_type": "markdown",
   "source": [
    "<div style=\"font-family: 'Times New Roman'; font-size: 16px;\">\n",
    "\n",
    "### Section 3: Sample Implementation\n",
    "\n",
    "</div>"
   ],
   "id": "b8a81be226284cbe"
  },
  {
   "metadata": {},
   "cell_type": "code",
   "outputs": [],
   "execution_count": null,
   "source": "# implementation of a sample case here",
   "id": "3f975abfbf612d5"
  },
  {
   "metadata": {},
   "cell_type": "markdown",
   "source": [
    "<div style=\"font-family: 'Times New Roman'; font-size: 16px;\">\n",
    "\n",
    "### Section 4: Subroutines\n",
    "\n",
    "</div>"
   ],
   "id": "e71cd81a945a07ae"
  },
  {
   "metadata": {},
   "cell_type": "code",
   "outputs": [],
   "execution_count": null,
   "source": "# implementation of subroutines",
   "id": "8838fe1daacf2d3e"
  }
 ],
 "metadata": {
  "kernelspec": {
   "display_name": "Python 3",
   "language": "python",
   "name": "python3"
  },
  "language_info": {
   "codemirror_mode": {
    "name": "ipython",
    "version": 2
   },
   "file_extension": ".py",
   "mimetype": "text/x-python",
   "name": "python",
   "nbconvert_exporter": "python",
   "pygments_lexer": "ipython2",
   "version": "2.7.6"
  }
 },
 "nbformat": 4,
 "nbformat_minor": 5
}
