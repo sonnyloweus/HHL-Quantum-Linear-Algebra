{
 "cells": [
  {
   "cell_type": "markdown",
   "id": "7902a46b53b60da0",
   "metadata": {},
   "source": [
    "<div style=\"font-family: 'Times New Roman'; font-size: 16px;\">\n",
    "\n",
    "# Quantum Linear Algebra\n",
    "The Harrow–Hassidim–Lloyd (HHL) algorithm [Project 1]  \n",
    "*By Sonny Lowe, David Lee, Arav Raval*\n",
    "\n",
    "</div>\n"
   ]
  },
  {
   "cell_type": "markdown",
   "id": "13c298c4c4b89370",
   "metadata": {},
   "source": [
    "<div style=\"font-family: 'Times New Roman'; font-size: 16px;\">\n",
    "\n",
    "This notebook will discuss the Harrow-Hassidim-Lloyd (HHL) quantum algorithm, meant for solving a linear system\n",
    "$$A\\vec{x}=\\vec{b} \\text{ ,  where } A \\text{ is a hermitian matrix}$$\n",
    "and where $\\vec{x}$ and $\\vec{b}$ ultimately represent quantum states $\\ket{x}$ and $\\ket{b}$ respectively. We will provide a derivation, implementation, generalization to non-hermitian matrices, as well as the context for HHL as a subroutine.\n",
    "\n",
    "Note: we will generally be working in the normalized domain.\n",
    "</div>"
   ]
  },
  {
   "cell_type": "markdown",
   "id": "7cd0ffd3d4183751",
   "metadata": {},
   "source": [
    "<div style=\"font-family: 'Times New Roman'; font-size: 16px;\">\n",
    "\n",
    "### Section 1: Mathematical Derivation\n",
    " \n",
    "Our problem is represented as \n",
    "$$A\\ket{x} = \\ket{b}$$\n",
    "where $\\ket{b} \\in \\mathbb{C}^N$ is some given quantum state and $A \\in \\mathbb{C}^{N\\times N}$. Our goal is to solve for $\\ket{x} \\in \\mathbb{C}^N$ under a few conditions:\n",
    "- $A$ is hermitian such that $A = A^\\dagger$\n",
    "- $A$ is $s$-sparse and well conditioned, meaning it has at most $s$ nonzero entries per row and its condition number  $\\kappa(A)$ is relatively small such that the system is stable and less sensitive to perturbations.\n",
    "We will break down the derivation into several steps.\n",
    "- We have access to an \"oracle\" of A in that we have its eigenvalues to use in our circuit (potential weakness).\n",
    "- We assume there exists some efficient algorithm to prepare $\\ket{b}$\n",
    "\n",
    "<br>\n",
    "\n",
    "#### **1. Rewriting and Initialization**\n",
    "Given that $A$ is a hermitian matrix, there exists a spectral decomposition such that the matrix can be diagonalized by unitary transformations.\n",
    "$$A = UDU^T,\\quad \\text{ where } U \\text{ is a unitary matrix and } D \\text{ is diagonal composed of the real eigenvalues of } A$$\n",
    "Since the columns of $U$ form an orthonormal basis and are the eigenvalues, we can rewrite this decomposition where $\\ket{u_{j}}$ is the $j^{th}$ eigenvector of $A$ with respective eigenvalue $\\lambda_{j}$ as:\n",
    "$$A = \\sum_{i=0}^{N-1}\\lambda_{i}\\ket{u_{i}}\\bra{u_{i}}, \\quad \\lambda_{i}\\in\\mathbb{ R }$$\n",
    "Likewise, as a linear transformation, we can write our resultant vector $\\ket{b}$ in the eigenbasis of $A$.\n",
    "$$\\ket{b} = \\sum_{i=0}^{N-1}b_{i}\\ket{u_{i}}, \\quad b_{i}\\in\\mathbb{ C }$$\n",
    "Thus, our problem can now be rewritten as:\n",
    "$$\\ket{x} = A^{-1}\\ket{b} = \\sum_{i=0}^{N-1}\\frac{1}{\\lambda_{i}}b_{i}\\ket{u_{i}}\\bra{u_{i}}u_{i}\\rangle = \\sum_{i=0}^{N-1}\\frac{1}{\\lambda_{i}}b_{i}\\ket{u_{i}}$$\n",
    "\n",
    "Moreover, note that to represent a state vector $\\ket{b}$ of dimension $N$, to prepare it as a quantum register, we prepare it in binary basis using $\\log_2{N}$ qubits. Therefore, from here on, $N = \\log_2{N}$.\n",
    "\n",
    "<br>\n",
    "\n",
    "#### **2. Quantum Phase Estimation**\n",
    "The problem first boils down to being able to decompose a matrix to find its eigenvalues and eigenvectors in a computationally efficient manner. At a high level, Quantum Phase Estimation is a procedure that performs a series of controlled-$U$ gates given some unitary matrix $U$ with eigenvalues of the form $e^{2\\pi i \\theta}$, and finds the phase $\\theta$.\n",
    "\n",
    "The number of qubits required for QPE is defined by the required additive error epsilon $\\epsilon$, where we will set $n_q = O(\\log{\\frac{1}{\\epsilon}})$ representing the number of qubits needed.\n",
    "\n",
    "For HHL, first, we start with two registers $\\ket{0}^{\\otimes n_q}$ and $\\ket{b}$. Our initial state is thus $\\ket{\\Phi_0} = \\ket{0}^{\\otimes n_q} \\otimes \\ket{b}.$ Then we can characterize the behavior of **QPE** as:\n",
    "$$\\textbf{QPE}(U,\\ket{0}^{\\otimes n_q},\\ket{b}) = \\textbf{QPE}(U,\\ket{0}^{\\otimes n_q},\\sum_{j=0}^{N-1}b_{j}\\ket{u_{j}}) = \\sum_{j=0}^{N-1}b_{j} \\ket{\\tilde{\\lambda_{j}}}_{n_q}  \\ket{u_{j}}, \\quad\\text{ for some clever choice of } U$$\n",
    "\n",
    "We will choose $U = e^{iAt}$ for some constant $t$ such that $U$ is governed by the same eigenvalues of $A$ and we have that, where $\\ket{u_{j}}$ is the $j^{th}$ eigenvector of $A$ with respective eigenvalue $\\lambda_{j}$:\n",
    "$$U = e^{iAt} = \\sum_{j=0}^{N-1}e^{i\\lambda_{j}t}\\ket{u_j}\\bra{u_j}$$\n",
    "\n",
    ">1. First, we hadamard our first register of $\\ket{0}^{\\otimes n_q}$. $H^{\\otimes n_q}\\ket{\\Phi_0} = \\frac{1}{2^{n/2}}(\\ket{0} + \\ket{1})^{\\otimes n_q} \\otimes \\ket{b}$\n",
    ">2. Next, we perform a series of $n_q$ controlled-$U$ gates such that for $k = {0,...,2^{n_q-1}}$, we create the gate (where $\\ket{k}$ is the k-th qubit in the $n_q$ registrar and t is some evolution time): $CU^{2^k}(\\ket{k}, \\ket{b}) =_{\\text{if} \\ket{k}=\\ket{1}} \\ket{k} \\otimes U^{2^k}\\ket{b}$. The composition of all N of these such gates yields the state (with normalization):\n",
    "$$ \\ket{b} \\otimes \\frac{1}{\\sqrt{2^n}} \\sum_{k=0}^{2^{n_q-1}} e^{i k \\lambda_j t} \\ket{k}$$\n",
    " >3. Consider just our $n_q$ (control) register, which is now superposed through unitary entanglements to the state:\n",
    " $$ \\frac{1}{\\sqrt{2^n}} \\sum_{k=0}^{2^{n_q-1}} e^{i k \\lambda_j t} \\ket{k} $$\n",
    " $$ \\text{where the phase factor is }\\quad \\lambda_i t = 2\\pi\\theta $$\n",
    " It is clear now that the encoded phase factor we desire (which represents the eigenvalues of $A$), can be extracted through the inverse quantum fourier transform operation. Thus, applying **QFT$^{-1}$** has the following behavior:\n",
    " $$\\textbf{QTF}^{-1}(\\frac{1}{\\sqrt{2^n}} \\sum_{k=0}^{2^{n_q-1}} e^{i k \\lambda_j t} \\ket{k}) \\mapsto \\ket{\\theta 2^{n_q}} \\quad\\text{ which encodes } \\theta_j 2^{n_q} = \\lambda_j t / 2\\pi \\quad\\Rightarrow \\tilde{\\lambda_j} = \\frac{\\lambda_j t 2^{n_q}}{2\\pi}$$\n",
    " Thus, we have essentially calculated an approximation of our actual eigenvalues. Thus, for our total state, we are left with a register that by superposition, now encodes an approximation of our eigenvalues into $n_q$ qubits.:\n",
    " $$\\sum_{j=0}^{N-1}b_{j}\\ket{\\tilde{\\lambda_j}}_{n_q}\\ket{u_j}$$\n",
    "\n",
    "<br>\n",
    "\n",
    "#### **3. Controlled Rotation**\n",
    "With our new intermediate state $\\sum_{j=0}^{N-1}b_{j}\\ket{\\tilde{\\lambda_j}}_{n_q}\\ket{u_j}$, our next problem is to produce the \"eigenvalues' reciprocal.\" We will do this by applying a series of controlled rotations. These rotations will utilize the control registers from QPE which now encodes the eigenvalues in binary with $n_q$ bits. All rotations will be applied onto a new ancilla register that will aid in extracting $\\frac{1}{\\tilde{\\lambda}}$. (Checkpoint: by now, we have created 3 registers with a total state of $\\ket{\\tilde{\\lambda}}_{n_q} \\otimes \\ket{b}_N \\otimes \\ket{0}_{ancilla}$)\n",
    "\n",
    "To do this, we will encode the ancilla qubit to the following state:\n",
    "$$\\ket{0}_{ancilla} \\mapsto \\sum_{j=0}^{N-1} \\sqrt{1 - \\left(\\frac{C}{\\tilde{\\lambda_j}}\\right)^2}\\ket{0}+\\frac{C}{\\tilde{\\lambda_j}}\\ket{1}$$\n",
    "\n",
    "$C$ is some constant that corresponds to the success rate of the ancilla being in the state $\\ket{1}$. However, it must not exceed the value of the smallest $\\tilde{\\lambda_j}$ as evident. Therefore, we aim to find the maximal $C$ such that $C < \\min_{j}\\tilde{\\lambda_j}$.\n",
    "\n",
    "Considering the general state $\\ket{\\psi} = \\cos(\\theta/2)\\ket{0} + e^{i\\phi}\\sin(\\theta/2)\\ket{1}$ allows us to clearly see that $\\theta_j = 2\\arcsin(C/\\tilde{\\lambda_j}) \\quad \\forall j$. Now, for each angle, we apply the rotation using a multi-controlled gate that triggers if the control QPE register has the encoding of the $\\tilde{\\lambda_j}$ eigenvalue. We know that our reciprocal circuit has succeeded if the ancilla bit is in the state $\\ket{1}$.\n",
    "\n",
    "Repeated until success, we are left with\n",
    " $$\\sum_{j=0}^{N-1}\\ket{\\tilde{\\lambda_j}}\\otimes b_{j}\\ket{u_j} \\otimes \\sqrt{1 - \\left(\\frac{C}{\\tilde{\\lambda_j}}\\right)^2}\\ket{0}+\\frac{C}{\\tilde{\\lambda_j}}\\ket{1}$$\n",
    "\n",
    "<br>\n",
    "\n",
    "#### **4. Uncompute**\n",
    "Next, we want to uncompute our eigenvalue register by applying the dagger of QPE. This consists of first applying QFT, then simplying applying the conditioned inverse of the unitary matrix $U$ followed by hadamards. We are left with a scaled approximation:\n",
    " $$\\sum_{j=0}^{N-1}\\ket{0}\\otimes b_{j}\\ket{u_j} \\otimes \\sqrt{1 - \\left(\\frac{C}{\\tilde{\\lambda_j}}\\right)^2}\\ket{0}+\\frac{C}{\\lambda_j}\\ket{1}$$\n",
    "\n",
    "<br>\n",
    "\n",
    "#### **5. Measure Ancillas**\n",
    "Finally, we will measure the ancilla, which after normalization, yields the post measurement state if our ancilla has the desired outcome of $\\ket{1}$ in the form:\n",
    "$$\\sum_{j=0}^{N-1}\\frac{1}{\\lambda_{j}}b_{j}\\ket{u_{j}}\\ket{1}_{ancilla}$$\n",
    "It is here that we see that this process is not deterministic and can fail up to a probability if our ancilla is in $\\ket{0}$. Thus, we will repeat the process of steps 2-4 until success (ancilla is $\\ket{1}$).\n",
    "\n",
    "<br>\n",
    "\n",
    "#### **6. Extracting Answer**\n",
    "We can see now that our registers hold our solution in the form of $A^{-1}\\ket{b}$. However, since the state $\\ket{x}$ is determined in our registers as a superposition, we cannot measure the full state in one shot without collapsing it to a single basis state. However, by measuring certain observables, you can gain useful information about the state without fully collapsing it. The quantum expectation value $\\bra{x}M\\ket{x}$ for a given observable $M$ is useful in the context of a subroutine because it can allow us to:\n",
    "- obtain information about the solution $\\ket{x}$ for instance, the probability distribution of components of $\\ket{x}$ in a particular basis.\n",
    "- Measure a function of the solution, such as a dot product or a norm, which might be useful in applications without needing the full solution.\n",
    "\n",
    "<br>\n",
    "\n",
    "#### **Our overall circuit diagram:**\n",
    "<img src=\"./assets/schematic.png\" alt=\"General Design\" width=\"600\" />\n",
    "\n",
    "</div>"
   ]
  },
  {
   "cell_type": "markdown",
   "id": "3eac5148b822d5c",
   "metadata": {},
   "source": [
    "<div style=\"font-family: 'Times New Roman'; font-size: 16px;\">\n",
    "\n",
    "### Section 2: Generalization to Non-Hermitian\n",
    "The case where $A \\in \\mathbb{C}^{N\\times N}$ is not hermitian is actually quite easy to resolve. Simply construct a new matrix $C \\in \\mathbb{C}^{2N \\times 2N}$:\n",
    "$$ C = \\begin{bmatrix}0&A\\\\A^{\\dagger}&0\\end{bmatrix} $$\n",
    "Notice that $C$ is immediately hermitian:\n",
    "$$ C^{\\dagger} = \\begin{bmatrix}0&A^{\\dagger}\\\\A^{\\dagger^{\\dagger}}&0\\end{bmatrix}^T = \\begin{bmatrix}0&A\\\\A^{\\dagger}&0\\end{bmatrix} $$\n",
    "and the properties of sparesness and well conditioning remain relative to this new matrix.\n",
    "\n",
    "Notice now that our problem changes as such:\n",
    "$$A\\vec{x}=\\vec{b} \\text{ ,  where } A \\text{ is non-hermitian} \\quad\\Rightarrow\\quad C\\begin{bmatrix}0\\\\x\\end{bmatrix} = \\begin{bmatrix}b\\\\0\\end{bmatrix} \\text{ ,  where } C \\text{ is a hermitian matrix} $$\n",
    "\n",
    "</div>"
   ]
  },
  {
   "cell_type": "markdown",
   "id": "b8a81be226284cbe",
   "metadata": {},
   "source": [
    "<div style=\"font-family: 'Times New Roman'; font-size: 16px;\">\n",
    "\n",
    "### Section 3: Sample Implementation\n",
    "\n",
    "This next section contains our implementation of HHL tested on a 3x3 invertible hermitian matrix selected to be sparse and relatively stable (low condition number). This implementation takes a step further than many tutorials online by removing the need for manual tinkering during the creation of the circuit. It is entirely self-contained as a hybrid algorithm. \n",
    "\n",
    "<br>\n",
    "\n",
    "This project utilizes IBM's Qiskit \n",
    "- qiskit == 0.44.2\n",
    "- qiskit-aer == 0.12.2\n",
    "- qiskit-terra == 0.25.2.1\n",
    "\n",
    "</div>"
   ]
  },
  {
   "cell_type": "code",
   "id": "3f975abfbf612d5",
   "metadata": {
    "ExecuteTime": {
     "end_time": "2024-12-13T17:50:20.484353Z",
     "start_time": "2024-12-13T17:50:20.469860Z"
    }
   },
   "source": [
    "# Numerical Analysis Imports and Qiskit Imports\n",
    "import numpy as np\n",
    "import scipy\n",
    "from numpy import pi,sqrt\n",
    "\n",
    "from qiskit import(QuantumCircuit, execute, Aer, ClassicalRegister, QuantumRegister)\n",
    "backend_svec = Aer.get_backend('statevector_simulator')\n",
    "backend_qasm = Aer.get_backend('qasm_simulator')\n",
    "\n",
    "from qiskit.extensions import UnitaryGate\n",
    "from qiskit.circuit.library.standard_gates import UGate\n",
    "\n",
    "# Visualizations\n",
    "from qiskit.visualization import plot_histogram\n",
    "import matplotlib.pyplot as plt"
   ],
   "outputs": [],
   "execution_count": 1037
  },
  {
   "cell_type": "markdown",
   "id": "ac2038d1fe79853",
   "metadata": {},
   "source": [
    "<div style=\"font-family: 'Times New Roman'; font-size: 16px;\">\n",
    "\n",
    "Given a Matrix, our code will check certain constraints. The most important of the modifications it will make regards whether or not the given matrix is hermitian. If not, it will create the block matrix outlined in Section 2. In addition, it will pad the vector and matrix as necessary such that it can be represented in qubits (its dimension is a power of 2).\n",
    "\n",
    "Some additional functions: eigenvalue scaling $(-1,1)$, unitary matrix $U = e^{iAt}$ creation.\n",
    "\n",
    "</div>"
   ]
  },
  {
   "cell_type": "code",
   "id": "6d4723da6f1f3113",
   "metadata": {
    "ExecuteTime": {
     "end_time": "2024-12-13T17:50:20.507661Z",
     "start_time": "2024-12-13T17:50:20.500004Z"
    }
   },
   "source": [
    "######################################################\n",
    "############ Matrix and Vector Handling ##############\n",
    "######################################################\n",
    "def prepare_hhlparams(\n",
    "        A: np.ndarray,\n",
    "        b: np.ndarray,\n",
    "        tol: float,\n",
    "        ev_time: float,\n",
    ")-> (np.ndarray, np.ndarray, np.ndarray, int, int):\n",
    "    if not isinstance(A, np.ndarray) or A.ndim != 2:\n",
    "        raise TypeError('A must be a 2D numpy matrix')\n",
    "    elif not isinstance(b, np.ndarray) or b.ndim != 1:\n",
    "        raise TypeError('b must be a 1D numpy matrix')\n",
    "    elif A.shape[0] != A.shape[1]:\n",
    "        raise ValueError(\"A must be a square matrix.\")\n",
    "    elif A.shape[0] != b.size: \n",
    "        raise ValueError(\"Invalid dimensions for linear system.\")\n",
    "    elif np.linalg.det(A) == 0:\n",
    "        raise ValueError(\"A must an invertible matrix.\")\n",
    "    # assuming matrix sparsity and well conditioned\n",
    "    \n",
    "    #### CONSTANTS ####\n",
    "    n = len(b)\n",
    "    nq = int(np.log(1/tol)) # bits needed for QPE register\n",
    "    t = ev_time # evolution time, multiple of pi\n",
    "    \n",
    "    #### PREPARE MATRIX ####\n",
    "       # HERMITIAN CHECKER #\n",
    "    C = A\n",
    "    if not np.allclose(A, np.conjugate(A.T)):\n",
    "        C = np.block([[np.zeros_like(A), A], [np.conj(A.T), np.zeros_like(A)]])\n",
    "        n *= 2\n",
    "       # PADDING MATRIX #\n",
    "    nb = int(np.ceil(np.log2(C.shape[0])))\n",
    "    N = 2**nb\n",
    "    if C.shape[0] != N:\n",
    "        C_pad = np.eye(N, dtype=complex)\n",
    "        C_pad[:n, :n] = C\n",
    "        C = C_pad\n",
    "        \n",
    "    eigenvalues, eigenvectors = np.linalg.eigh(C)\n",
    "    C /= max(np.real(eigenvalues))\n",
    "    \n",
    "    #### PREPARE VECTOR (padding) ####\n",
    "    b_pad = b\n",
    "    if b.shape[0] != N:\n",
    "        b_pad = np.pad(b, (0, N - len(b)))\n",
    "        \n",
    "    #### PREPARE UNITARY MATRIX U ####\n",
    "    eigenvalues, eigenvectors = np.linalg.eigh(C)\n",
    "    U = scipy.linalg.expm(1j*C*t)\n",
    "    \n",
    "    print('Eigenvalues of A\\':', np.array2string(eigenvalues, formatter={'float_kind': lambda x: f\"{x:.3f}\"}))\n",
    "    print('Condition number of A\\':', np.linalg.cond(A))\n",
    "    return C, b_pad, U, nb, nq\n",
    "    "
   ],
   "outputs": [],
   "execution_count": 1038
  },
  {
   "cell_type": "markdown",
   "id": "7faee5185781d844",
   "metadata": {},
   "source": [
    "<div style=\"font-family: 'Times New Roman'; font-size: 16px;\">\n",
    "\n",
    "The helper functions below will help us analyze our results at the very end by comparing the amplitudes/probability distribution of our HHL derived answer and a classically computed answer.\n",
    "\n",
    "</div>"
   ]
  },
  {
   "cell_type": "code",
   "id": "e432ecc076e3c882",
   "metadata": {
    "ExecuteTime": {
     "end_time": "2024-12-13T17:50:21.271849Z",
     "start_time": "2024-12-13T17:50:21.267815Z"
    }
   },
   "source": [
    "######################################################\n",
    "################ Results Analyzers ###################\n",
    "######################################################\n",
    "\n",
    "def get_x_distribution_hhl(shots, failed_count, trimmed_counts, b):\n",
    "    # find probabilities of the top n results (for an n-dim system)    \n",
    "    top_n_counts = dict(sorted(trimmed_counts.items(), key=lambda x: x[1], reverse=True)[:len(b)])\n",
    "    x_hhl = [i[1]/(shots - failed_count) for i in sorted(top_n_counts.items(), key=lambda i: i[0], reverse=False)]\n",
    "    \n",
    "    x_hhl = x_hhl\n",
    "    return np.array(x_hhl)\n",
    "\n",
    "def get_x_distribution_actual(A, b):\n",
    "    x = np.linalg.solve(A, b)\n",
    "    # squaring norm for probability distribution\n",
    "    x = (x/np.linalg.norm(x))**2\n",
    "    return np.array(x)\n",
    "\n",
    "def remove_fails(counts):\n",
    "    # remove all failed runs: either ancilla is |0> or our QPE register is not all |0>\n",
    "    failed_count = sum(value for key, value in counts.items() if (key.endswith(\"0\") or key[-nq-1:-1] != ('0'*nq)))\n",
    "    fails = []\n",
    "    for key, val in counts.items():\n",
    "        if key.endswith(\"0\") or key[-nq-1:-1] != ('0'*nq):\n",
    "            fails.append(key)\n",
    "    for item in fails:\n",
    "        counts.pop(item)\n",
    "    return failed_count, counts"
   ],
   "outputs": [],
   "execution_count": 1039
  },
  {
   "cell_type": "markdown",
   "id": "2e03571b15d2331f",
   "metadata": {},
   "source": [
    "<div style=\"font-family: 'Times New Roman'; font-size: 16px;\">\n",
    "\n",
    "The following section contains the creation for all major circuit components of HHL including: initialization, QPE, and Eigenvalue Rotation. Note: QFT (quantum fourier transform) is implemented from scratch within QPE (inverse).\n",
    "\n",
    "</div>"
   ]
  },
  {
   "cell_type": "code",
   "id": "ee3d522081bf9ce",
   "metadata": {
    "ExecuteTime": {
     "end_time": "2024-12-13T17:50:21.901178Z",
     "start_time": "2024-12-13T17:50:21.895714Z"
    }
   },
   "source": [
    "######################################################\n",
    "################ Circuit Components ##################\n",
    "######################################################\n",
    "\n",
    "########### Initialization b Circuit ###########\n",
    "def initb_construct_circuit(\n",
    "        n_b: QuantumRegister,\n",
    "        n_q: QuantumRegister,\n",
    "        n_a: QuantumRegister,\n",
    "        cb: ClassicalRegister,\n",
    "        b: np.ndarray,\n",
    ") -> QuantumCircuit:\n",
    "    init_circ = QuantumCircuit(n_b, n_q, n_a, cb)\n",
    "    init_circ.initialize(b/np.linalg.norm(b), n_b)\n",
    "    return init_circ\n",
    "\n",
    "################ QPE Circuit ################\n",
    "def QPE_construct_circuit(\n",
    "        n_b: QuantumRegister,\n",
    "        n_q: QuantumRegister,\n",
    "        n_a: QuantumRegister,\n",
    "        cb: ClassicalRegister,\n",
    "        U: np.ndarray,\n",
    ") -> QuantumCircuit:\n",
    "    nq = n_q.size\n",
    "    nb = n_b.size\n",
    "    qpe_circ = QuantumCircuit(n_b, n_q, n_a, cb)\n",
    "    # Hadamard all QPE register qubits\n",
    "    qpe_circ.h(n_q)\n",
    "    \n",
    "    # Controlled U Operations\n",
    "    U = UnitaryGate(U, label='U')\n",
    "    for i in range(nq):\n",
    "        U_k = U.power(2**i) \n",
    "        ctrl_U_k = U_k.control()\n",
    "        qpe_circ.append(ctrl_U_k, list(np.concatenate(([nb+i], np.arange(nb)))))\n",
    "    qpe_circ.barrier()\n",
    "    \n",
    "    # Inverse QFT\n",
    "    for qubit in range(nq//2):\n",
    "        qpe_circ.swap(n_q[nq-qubit-1], n_q[qubit]) \n",
    "    for i in range(nq):\n",
    "        for m in range(i):\n",
    "            qpe_circ.cp(-pi/(2**(i-m)), n_q[m], n_q[i])\n",
    "        qpe_circ.h(n_q[i])\n",
    "        \n",
    "    return qpe_circ\n",
    "\n",
    "########## Eigenvalue Rotation Circuit #########\n",
    "def eigrot_construct_circuit(\n",
    "        b: np.ndarray,\n",
    "        A: np.ndarray,\n",
    "        U: np.ndarray,\n",
    "        n_b: QuantumRegister,\n",
    "        n_q: QuantumRegister,\n",
    "        n_a: QuantumRegister,\n",
    "        cb: ClassicalRegister,\n",
    "        t: float,\n",
    ") -> QuantumCircuit:\n",
    "    nq = n_q.size\n",
    "    nb = n_b.size\n",
    "    # retrieve the lambda_eigenvalues and the necessary angles of rotation\n",
    "    eigenvalues_qpe, eigenvalue_oracle = QPE_extractor(b,A,U,nb,nq,t)\n",
    "    thetas = retrieve_angles(eigenvalues_qpe, eigenvalue_oracle, t)\n",
    "    ev_bitstrings = list(eigenvalues_qpe.values())\n",
    "    \n",
    "    eigrot_circ = QuantumCircuit(n_b, n_q, n_a, cb)\n",
    "    # constructing the multi-controlled rotation gates\n",
    "    for ind, theta in enumerate(thetas):\n",
    "        # the control state simply corresponds to the bit representation of the eigenvalue\n",
    "        CU_gate = UGate(theta, 0, 0).control(nq, ctrl_state = ev_bitstrings[ind])                \n",
    "        eigrot_circ.append(CU_gate, list(np.concatenate((np.arange(nb,nq+nb), [nb+nq]))))\n",
    "    \n",
    "    return eigrot_circ\n"
   ],
   "outputs": [],
   "execution_count": 1040
  },
  {
   "cell_type": "markdown",
   "id": "a6c21882bdbede5d",
   "metadata": {},
   "source": [
    "<div style=\"font-family: 'Times New Roman'; font-size: 16px;\">\n",
    "\n",
    "One of the weaknesses of HHL is the fact that it requires an \"oracle\" of sorts that knows the actual eigenvalues and can compare the approximations of QPE to these expected eigenvalues in order to determine their parity and thus the rotation angles needed to flip them. Many implementations that exist require manual changes and calculations - our implementation removes this step using quantum circuit composition (a quantum subroutine). Specifically, we perform QPE, extract the respective lambda eigenvalues, and compare them to classically computed eigenvalues. This is what makes the algorithm hybrid.\n",
    "\n",
    "</div>"
   ]
  },
  {
   "cell_type": "code",
   "id": "b2aacac6deec2afe",
   "metadata": {
    "ExecuteTime": {
     "end_time": "2024-12-13T17:50:22.528785Z",
     "start_time": "2024-12-13T17:50:22.523862Z"
    }
   },
   "source": [
    "######################################################\n",
    "############ QPE Extractor and Verifiers #############\n",
    "######################################################\n",
    "def QPE_extractor_circuit(\n",
    "        b: np.ndarray,\n",
    "        U: np.ndarray,\n",
    "        nb: int,\n",
    "        nq: int,\n",
    ")-> QuantumCircuit:\n",
    "    n_b = QuantumRegister(nb, 'b')\n",
    "    n_q = QuantumRegister(nq, 'QPE')\n",
    "    n_a = QuantumRegister(1, 'aux')\n",
    "    cb = ClassicalRegister(nq, 'cb')\n",
    "    \n",
    "    #### INITIALIZE B ####\n",
    "    init_circ = initb_construct_circuit(n_b, n_q, n_a, cb, b)\n",
    "    init_circ.barrier()\n",
    "    \n",
    "    #### QPE CIRCUIT ####\n",
    "    qpe_circ = QPE_construct_circuit(n_b, n_q, n_a, cb, U)\n",
    "    qpe_circ.barrier()\n",
    "    \n",
    "    #### MEASURE QPE ####\n",
    "    measureQPE_circ = QuantumCircuit(n_b, n_q, n_a, cb)\n",
    "    measureQPE_circ.measure(n_q, cb)\n",
    "    measureQPE_circ.barrier()\n",
    "    \n",
    "    qpe_circuit = init_circ.compose(qpe_circ)\n",
    "    qpe_circuit = qpe_circuit.compose(measureQPE_circ)\n",
    "    return qpe_circuit\n",
    "\n",
    "def QPE_extractor(\n",
    "        b: np.ndarray,\n",
    "        A: np.ndarray,\n",
    "        U: np.ndarray,\n",
    "        nb: int,\n",
    "        nq: int,\n",
    "        t: float,\n",
    ") -> (dict, dict):\n",
    "    circuit = QPE_extractor_circuit(b, U, nb, nq)\n",
    "    job = execute(circuit, backend=backend_qasm, shots=1000) # execute the QPE circuit\n",
    "    counts = job.result().get_counts()\n",
    "    \n",
    "    # retrieve the top bitstrings corresponding to the lambda_eigenvalues\n",
    "    top_bitstrings = [i[0] for i in sorted(counts.items(), key=lambda i: i[1], reverse=True)[:len(b)]]\n",
    "    dec_lambda_eigenvalue = np.array([int(i[::1],2) for i in top_bitstrings])\n",
    "    lambda_eigenvalues = dict(zip(dec_lambda_eigenvalue, top_bitstrings))\n",
    "    \n",
    "    # calculate classically the eigenvalues in order to determine each eigenvalues' parity\n",
    "    eig_val, eig_vec = np.linalg.eigh(A)\n",
    "    exp_lambda_eigenvalues = expected_lambda_eigenvalues(np.real(eig_val), nq, t)\n",
    "    eigenvalue_oracle = dict(zip(exp_lambda_eigenvalues, np.real(eig_val)))\n",
    "    \n",
    "    # pass information as zipped dictionaries\n",
    "    return lambda_eigenvalues, eigenvalue_oracle\n",
    "\n",
    "def expected_lambda_eigenvalues(\n",
    "        eig_val: np.ndarray,\n",
    "        nq: int,\n",
    "        t: float,\n",
    "):\n",
    "    # calculating the expected lambda_eigenvalue\n",
    "    return [int(2**nq * t * val / (2*pi) % (2**nq)) for val in eig_val]\n"
   ],
   "outputs": [],
   "execution_count": 1041
  },
  {
   "cell_type": "markdown",
   "id": "9e89482ba4c74533",
   "metadata": {},
   "source": [
    "<div style=\"font-family: 'Times New Roman'; font-size: 16px;\">\n",
    "\n",
    "Below contains helper functions for creating the eigenvalue inverting circuit. Using the quantum subroutine above, it retrieves the necessary angles to rotate by, corrected with eigenvalue parity information automatically.\n",
    "\n",
    "</div>"
   ]
  },
  {
   "cell_type": "code",
   "id": "3633f31b3ff0c42a",
   "metadata": {
    "ExecuteTime": {
     "end_time": "2024-12-13T17:50:23.143110Z",
     "start_time": "2024-12-13T17:50:23.139034Z"
    }
   },
   "source": [
    "######################################################\n",
    "########### Eigenvalue Rotator and Angles ############\n",
    "######################################################\n",
    "def retrieve_angles(\n",
    "        lambda_eigenvalues: dict,\n",
    "        eigenvalue_oracle: dict,\n",
    "        t: float,\n",
    ") -> np.ndarray:\n",
    "    lambda_js = []\n",
    "    C = None\n",
    "    for lambda_ev in lambda_eigenvalues.keys():\n",
    "        closest_exp_ev = min(eigenvalue_oracle.keys(), key=lambda x: abs(x - lambda_ev))\n",
    "        frac_lambda_ev = fractional_eigenvalue_convert(lambda_eigenvalues[lambda_ev])\n",
    "        if eigenvalue_oracle[closest_exp_ev] < 0.0: # if the eigenvalue is negative we must invert it\n",
    "            frac_lambda_ev = -1 * (1 - frac_lambda_ev)\n",
    "        \n",
    "        lambda_j = frac_lambda_ev * (2*pi/t)\n",
    "        C = min(C if C is not None else abs(lambda_j), abs(lambda_j)-0.0001)\n",
    "        lambda_js.append(lambda_j)\n",
    "    \n",
    "    thetas = []\n",
    "    for lambda_j in lambda_js:\n",
    "        thetas.append(2*np.arcsin(C/lambda_j))\n",
    "        \n",
    "    print('Rotation Angles:', np.array2string(np.array(thetas), formatter={'float_kind': lambda x: f\"{x:.2f}\"}))\n",
    "    return np.array(thetas)\n",
    "\n",
    "def fractional_eigenvalue_convert(\n",
    "        bitstring: np.ndarray,\n",
    "):\n",
    "    frac = 0\n",
    "    for ind, i in enumerate(bitstring[::1]):\n",
    "        frac += int(i) / 2**(ind+1)\n",
    "    return frac\n"
   ],
   "outputs": [],
   "execution_count": 1042
  },
  {
   "cell_type": "markdown",
   "id": "7705b9ef19f742b9",
   "metadata": {},
   "source": [
    "<div style=\"font-family: 'Times New Roman'; font-size: 16px;\">\n",
    "\n",
    "The mother-function that creates the HHL circuit given the problem statement and certain hyperparameters.\n",
    "</div>"
   ]
  },
  {
   "metadata": {
    "ExecuteTime": {
     "end_time": "2024-12-13T17:50:23.751864Z",
     "start_time": "2024-12-13T17:50:23.747719Z"
    }
   },
   "cell_type": "code",
   "source": [
    "######################################################\n",
    "################### HHL Circuit ######################\n",
    "######################################################\n",
    "def hhl_circuit(\n",
    "        A: np.ndarray,\n",
    "        b: np.ndarray,\n",
    "        tol: float = 1e-1,\n",
    "        t: float = pi,\n",
    "        measure: bool = False,\n",
    ") -> QuantumCircuit:\n",
    "    \"\"\"    \n",
    "    :param A: A numpy matrix \n",
    "    :param b: A numpy vector\n",
    "    :return: A quantum circuit for the hhl algorithm\n",
    "    \"\"\"\n",
    "    \n",
    "    #### PREPARE REGISTERS + PARAMS ####\n",
    "    n_og = b.shape[0]\n",
    "    A, b, U, nb, nq = prepare_hhlparams(A, b, tol, ev_time)\n",
    "    n_b = QuantumRegister(nb, 'b')\n",
    "    n_q = QuantumRegister(nq, 'QPE')\n",
    "    n_a = QuantumRegister(1, 'aux')\n",
    "    cb = ClassicalRegister((1+nq+nb),'cb')\n",
    "  \n",
    "    #### INITIALIZE B ####\n",
    "    init_circ = initb_construct_circuit(n_b, n_q, n_a, cb, b)\n",
    "    init_circ.barrier()\n",
    "    \n",
    "    #### QPE CIRCUIT ####\n",
    "    qpe_circ = QPE_construct_circuit(n_b, n_q, n_a, cb, U)\n",
    "    qpe_circ.barrier()\n",
    "    \n",
    "    #### EIGENVALUE ROTATION CIRCUIT ####\n",
    "    eigrot_circ = eigrot_construct_circuit(b, A, U, n_b, n_q, n_a, cb,t)\n",
    "    eigrot_circ.barrier()\n",
    "    \n",
    "    #### MEASURING ANCILLA ####\n",
    "    measure_anc_circ = QuantumCircuit(n_b, n_q, n_a, cb)\n",
    "    measure_anc_circ.measure(n_a, cb[0])\n",
    "    measure_anc_circ.barrier()\n",
    "    \n",
    "    #### UN-COMPUTING QPE CIRCUIT ####\n",
    "    qpe_dag_circ = qpe_circ.inverse()\n",
    "    qpe_dag_circ.barrier()\n",
    "    \n",
    "    #### MEASURING QPE Registers ####\n",
    "    measureQPE_circ = QuantumCircuit(n_b, n_q, n_a, cb)\n",
    "    if measure:\n",
    "        measureQPE_circ.measure(n_q, cb[1:nq+1])\n",
    "    \n",
    "    #### MEASURING B ####\n",
    "    measureb_circ = QuantumCircuit(n_b, n_q, n_a, cb)\n",
    "    if measure:\n",
    "        measureb_circ.measure(n_b, cb[nq+1:])\n",
    "    \n",
    "    #### COMPOSING THE CIRCUIT ####\n",
    "    circuit = init_circ.compose(qpe_circ)\n",
    "    circuit = circuit.compose(eigrot_circ)\n",
    "    circuit = circuit.compose(measure_anc_circ)\n",
    "    circuit = circuit.compose(qpe_dag_circ)\n",
    "    circuit = circuit.compose(measureQPE_circ)\n",
    "    circuit = circuit.compose(measureb_circ)\n",
    "\n",
    "    return A, b, nq, circuit"
   ],
   "id": "cc20c5fe28b89ddf",
   "outputs": [],
   "execution_count": 1043
  },
  {
   "metadata": {},
   "cell_type": "markdown",
   "source": [
    "<div style=\"font-family: 'Times New Roman'; font-size: 16px;\">\n",
    "\n",
    "### Section 4: Results\n",
    "\n",
    "Finally, we can test our circuit given a problem statement ($A$, $b$) that fulfills the requirements listed in Section 1. In addition, we give the function a tolerance (tol: for QPE's approximation accuracy), evolution time (t), and the number of execution shots.\n",
    "\n",
    "You can see below the specific 3x3 invertible non hermitian matrix we have chosen to use.\n",
    "\n",
    "</div>"
   ],
   "id": "1687899bd2860e5d"
  },
  {
   "metadata": {
    "ExecuteTime": {
     "end_time": "2024-12-13T18:17:11.284797Z",
     "start_time": "2024-12-13T18:17:09.560646Z"
    }
   },
   "cell_type": "code",
   "source": [
    "######################################################\n",
    "############## Hyperparams + Problem #################\n",
    "######################################################\n",
    "shots = 2**16 # execution shots\n",
    "\n",
    "# Try these problem statements out, each with carefully chosen hyperparameters\n",
    "\n",
    "# A is a 3x3 invertible non hermitian sparse matrix that is well scaled and stable - GOOD EX\n",
    "# tol = 2e-6\n",
    "# ev_time = 150\n",
    "# A = np.matrix([[1, 1, 0],[-1, 1, -1],[0, 0.12, 1.2]])\n",
    "# b = np.array([1, 2, 3])\n",
    "\n",
    "# A is a 3x3 invertible non hermitian sparse matrix that is well scaled and stable - OKAY EX\n",
    "# tol = 2e-4\n",
    "# ev_time = 2*pi\n",
    "# A = np.matrix([[4/5, 1/5, 0],[0, 3/5, 1/5],[0, 0, 2.9/5]])\n",
    "# b = np.array([1, 2, 3])\n",
    "\n",
    "# A is a 2x2 hermitian matrix\n",
    "# tol = 1e-1\n",
    "# ev_time = pi\n",
    "# A = np.matrix([[3/4, 1/4],[1/4, 3/4]])\n",
    "# b = np.array([0, 1])\n",
    "\n",
    "# A is a complex 4x4 hermitian matrix\n",
    "tol = 1e-4\n",
    "ev_time = pi\n",
    "A = np.matrix([[4, 1 + 1j, 0, 0],[1 - 1j, 4, 0.5, 0],[0, 0.5, 4, 0.5],[0, 0, 0.5, 4]])\n",
    "b = np.array([0, 1, 0, 1])\n",
    "\n",
    "######################################################\n",
    "################### HHL Creation #####################\n",
    "######################################################\n",
    "\n",
    "A_p, b_p, nq, hhl = hhl_circuit(A, b, tol, ev_time, True)\n",
    "hhl.draw('mpl', reverse_bits=True, scale=0.2, fold=100)\n"
   ],
   "id": "1bba6d64fd0f32e0",
   "outputs": [
    {
     "name": "stdout",
     "output_type": "stream",
     "text": [
      "Eigenvalues of A': [0.452 0.641 0.811 1.000]\n",
      "Condition number of A': 2.213140406338677\n",
      "Rotation Angles: [0.94 1.57 3.10 1.18]\n"
     ]
    },
    {
     "data": {
      "text/plain": [
       "<Figure size 1704.25x692.3 with 1 Axes>"
      ],
      "image/png": "[encoded data removed]"
     },
     "execution_count": 1052,
     "metadata": {},
     "output_type": "execute_result"
    }
   ],
   "execution_count": 1052
  },
  {
   "metadata": {
    "ExecuteTime": {
     "end_time": "2024-12-13T18:17:15.078004Z",
     "start_time": "2024-12-13T18:17:14.262567Z"
    }
   },
   "cell_type": "code",
   "source": [
    "######################################################\n",
    "##################### Results $$$#####################\n",
    "######################################################\n",
    "\n",
    "job = execute(hhl, backend=backend_qasm, shots=shots)\n",
    "counts = job.result().get_counts()\n",
    "failed_count, trimmed_counts = remove_fails(counts.copy())\n",
    "\n",
    "x_HHL = get_x_distribution_hhl(shots, failed_count, trimmed_counts, b)\n",
    "x = get_x_distribution_actual(A, b)\n",
    "print(f\"The HHL circuit failed {failed_count/shots*100}% of the time.\")\n",
    "print('|x> prob. HHL   :', np.array2string(x_HHL, formatter={'float_kind': lambda x: f\"{x:.3f}\"}))\n",
    "print('|x> prob. actual:', np.array2string(np.real(x), formatter={'float_kind': lambda x: f\"{x:.3f}\"}))\n",
    "print('Normalized Error:', np.linalg.norm(x_HHL - x))\n",
    "\n",
    "# plot_histogram(counts) # qiskit's visualizer\n",
    "\n",
    "fig, ax = plt.subplots(figsize=(10, 6)) # matplotlib\n",
    "ax.set_facecolor('#f2f2f2')\n",
    "keys = list(counts.keys())\n",
    "values = list(counts.values())\n",
    "plt.rcParams.update({'font.family': 'Times New Roman'})\n",
    "ax.bar(keys, values)\n",
    "ax.tick_params(axis='x', labelsize=8, rotation=0)\n",
    "ax.set_xticks(range(len(keys)))\n",
    "keys_formatted = ['\\n'.join(list(key)) for key in keys]\n",
    "ax.set_xticklabels(keys_formatted)\n",
    "ax.set_xlabel('Final States')\n",
    "ax.set_ylabel('Counts')\n",
    "ax.set_title('HHL Circuit Results')\n",
    "\n",
    "plt.tight_layout()\n",
    "plt.show()"
   ],
   "id": "265ca11fcb6b8083",
   "outputs": [
    {
     "name": "stdout",
     "output_type": "stream",
     "text": [
      "The HHL circuit failed 67.828369140625% of the time.\n",
      "|x> prob. HHL   : [0.006 0.526 0.064 0.404]\n",
      "|x> prob. actual: [0.000 0.514 0.028 0.394]\n",
      "Normalized Error: 0.07546394851634995\n"
     ]
    },
    {
     "data": {
      "text/plain": [
       "<Figure size 1000x600 with 1 Axes>"
      ],
      "image/png": "[encoded data removed]"
     },
     "metadata": {},
     "output_type": "display_data"
    }
   ],
   "execution_count": 1053
  },
  {
   "metadata": {},
   "cell_type": "markdown",
   "source": [
    "<div style=\"font-family: 'Times New Roman'; font-size: 16px;\">\n",
    "\n",
    "From our results, you can see the final states retrieved after executing the circuit for the specified number of shots. It is important to note which shots correspond to success and which correspond to failure (specified in Section 1). The results are displayed with the least significant bit (ancilla bit) displayed at the bottom, followed by the QPE register bits stacked on top, with the last $\\log_2(n)$ bits on top.\n",
    "\n",
    "In addition, you can see the difference between the probability distributions of our $\\ket{x}$ from the HHL algorithm, and a generic classical numpy algorithm.\n",
    "\n",
    "It is important to note that as HHL is quite sensitive to the matrix $A$ itself, the success of the results also depends on the matrix. A good rule of thumb is that high failure rates often indicate inaccurate results. Also, changing the hyperparameters such as evolution time also depend on each matrix. If the two dimensions of $\\ket{x}$ mismatch, the circuit failed, run again.\n",
    "\n",
    "</div>"
   ],
   "id": "7e3129191b9ad1cb"
  },
  {
   "metadata": {},
   "cell_type": "markdown",
   "source": [
    "<div style=\"font-family: 'Times New Roman'; font-size: 16px;\">\n",
    "\n",
    "### Section 5: Subroutines\n",
    "\n",
    "The following section will now perform a data fitting algorithm outlined by N. Wiebe, D. Braun, and S. Lloyd [\\[DOI\\]](https://journals.aps.org/prl/abstract/10.1103/PhysRevLett.109.050505#fulltext). HHL is used as a subroutine within this larger data fitting problem, which is broken down into three subroutines: (1) Fitting Psuedoinverse (2) Estimating Fit Quality (3) Learning $\\boldsymbol{\\lambda}$\n",
    "\n",
    "<br>\n",
    "\n",
    "Our problem is defined as minimizing\n",
    "$$E = |\\mathbf{F}\\boldsymbol{\\lambda} - \\mathbf{y}|^2, \\quad\\text{ such that } \\boldsymbol{\\lambda} \\in \\mathbb{C}^N \\text{ and } \\mathbf{F} \\in \\mathbb{C}^{N \\times M} \\text{ and } \\mathbf{y} \\in \\mathbb{C}^{M}$$\n",
    "by choosing the minimizing fit parameters $\\boldsymbol{\\lambda}$ (Least squares fitting problem). We also will assume the conditions that $\\frac{1}{\\kappa^2} \\leq \\| F^{\\dagger} F \\| \\leq 1$ and $\\frac{1}{\\kappa^2} \\leq \\| F F^{\\dagger}\\| \\leq 1$ where $\\kappa$ is the condition number of the invertible matrix $\\mathbf{F}$ and $\\|\\cdot\\|$ denotes the spectral norm.\n",
    "\n",
    "Input: A Quantum State: $\\ket{y}$, the condition number of $\\mathbf{F}$: $\\kappa$, the sparseness of $\\mathbf{F}$: s, and an error tolerance value: $\\epsilon$.\n",
    "\n",
    "For our purposes, we will solve a data fitting problem where $\\mathbf{F} \\in \\mathbb{R}^{4\\times3}$ with rank 3, meaning $M=4, N=3$. In addition, $y \\in \\mathbb{R}^4$ that is not a linear combination of the columns of F. In addition, note that the Moore-Penrose pseudoinverse of $\\mathbf{F}$ is denoted $\\mathbf{F}^+$ to $y$ is\n",
    "$$\\boldsymbol{\\lambda} = \\mathbf{F}^+\\mathbf{y} = (\\mathbf{F}^\\dagger \\mathbf{F})^{-1} \\mathbf{F}^\\dagger \\mathbf{y}$$\n",
    "and will be used to solve the fitting problem.\n",
    "\n",
    "</div>"
   ],
   "id": "cd36b84187d3e3d4"
  },
  {
   "metadata": {
    "ExecuteTime": {
     "end_time": "2024-12-13T17:50:41.826306Z",
     "start_time": "2024-12-13T17:50:41.824214Z"
    }
   },
   "cell_type": "code",
   "source": [
    "tol = 1e-2\n",
    "ev_time = pi\n",
    "shots = 1024\n",
    "F = np.matrix([[1, 1, 1], [0, 0, 1], [1, 0, 0], [0.5, 1, 0]])\n",
    "y = np.array([0, 0, 1, 0])"
   ],
   "id": "54206ec2b43f53c2",
   "outputs": [],
   "execution_count": 1046
  },
  {
   "metadata": {},
   "cell_type": "markdown",
   "source": [
    "<div style=\"font-family: 'Times New Roman'; font-size: 16px;\">\n",
    "\n",
    "#### **1. The Pseudoinverse**\n",
    "\n",
    "Given the general Moore-Penrose pseudoinverse $\\lambda = F^+y = (F^\\textdagger F)^{-1} F^\\textdagger y$, we can reformulate the components to be written as \n",
    "$$(F^\\textdagger F) \\lambda =  F^\\textdagger y.$$\n",
    "This has the same structure as the linear system $Ax = b$, where $A = (F^\\textdagger F)$ and $b = F^\\textdagger y$. Therefore, we can apply the HHL algorithm to estimate $\\lambda$ after some pre-processing of our matrix, vector inputs. As implemented above, HHL can handle non-hermitian matrices by forming the specfied block matrix in section 2.\n",
    "\n",
    "As stated in the article, this first sub-algorithm will take in the hyperparameters, then using the trick defined above, will perform a call to HHL in order to retrieve the estimated $\\ket{\\boldsymbol{\\lambda}}$.\n",
    "\n",
    "</div>"
   ],
   "id": "342c3fdf2f20aec8"
  },
  {
   "metadata": {
    "ExecuteTime": {
     "end_time": "2024-12-13T17:50:42.386639Z",
     "start_time": "2024-12-13T17:50:42.383591Z"
    }
   },
   "cell_type": "code",
   "source": [
    "def psuedoinverse_hhl(\n",
    "    F: np.ndarray,\n",
    "    y: np.ndarray,\n",
    "    tol: float,\n",
    "    ev_time: float,\n",
    "    shots: int,\n",
    ") -> (np.ndarray, np.ndarray):\n",
    "    F_dag = F.getH()\n",
    "    A = F_dag @ F\n",
    "    b = np.dot(F_dag, y.T)\n",
    "    b = np.asarray(b.flatten())[0]\n",
    "    \n",
    "    A_p, b_p, nq, hhl = hhl_circuit(A, b, tol, ev_time, False)\n",
    "    nb = int(np.ceil(np.log2(len(b_p))))\n",
    "\n",
    "    # returns nb and a circuit where the last nb registers correspond to the encoded |\\lambda>\n",
    "    return nb, hhl\n",
    "\n",
    "def isometry_inv(\n",
    "        F: np.ndarray,\n",
    "        y: np.ndarray,\n",
    ") -> np.ndarray:\n",
    "        I_F_inv = np.block([[np.zeros_like(F), np.conj(F.T)], [F, np.zeros_like(F)]])\n",
    "        y_pad = np.pad(y, (0, I_F_inv.shape[0] - len(b)))\n",
    "        return I_F_inv, y_pad\n",
    "    "
   ],
   "id": "46a810236bc84a01",
   "outputs": [],
   "execution_count": 1047
  },
  {
   "metadata": {},
   "cell_type": "markdown",
   "source": [
    "<div style=\"font-family: 'Times New Roman'; font-size: 16px;\">\n",
    "\n",
    "#### **2. Estimating Fit Quality**\n",
    "\n",
    "Ultimately, to estimate fit quality, we can then perform the Swap Test to distinguish $\\ket{y}$ and $I(F)\\ket{\\lambda}$ controlled by a qubit in the $\\ket{+}$ state. If the ancilla is measured to be in 1, we can conclude that the states are different, otherwise, they are the same. Since from our HHL, we have a state in $\\ket{\\lambda}$, we can instead compare $I(F)^{-1}\\ket{y}$ and $\\ket{\\lambda}$ for the same effect.\n",
    "\n",
    "Note: $I(\\cdot)$ corresponds to making the isometry (same as the block matrix operation in Section 2).\n",
    "</div>"
   ],
   "id": "8c40c17e1cc7cc80"
  },
  {
   "metadata": {
    "ExecuteTime": {
     "end_time": "2024-12-13T17:50:42.942574Z",
     "start_time": "2024-12-13T17:50:42.939614Z"
    }
   },
   "cell_type": "code",
   "source": [
    "def swap_test(y, sol):\n",
    "    \"\"\"\n",
    "    :param y: Numpy array representing I(F)^{-1|y⟩\n",
    "    :param quantum_solution: Numpy array representing |λ⟩\n",
    "    :return: Probability of measuring 1 and overlap given by sqrt((1 - 2 * p_1))\n",
    "    \"\"\"    \n",
    "    n = int(math.log2(F.shape[0]))\n",
    "    qc = QuantumCircuit(2*n + 1, 1)\n",
    "\n",
    "    qc.initialize(y, range(1, n + 1))\n",
    "    qc.initialize(sol, range(n + 1, 2 * n + 1))\n",
    "    \n",
    "    qc.h(0) #Hadamard ancilla\n",
    "\n",
    "    # Apply SWAP gates\n",
    "    for i in range(n):\n",
    "        qc.cswap(0, i+1, i+n+1)\n",
    "\n",
    "    qc.h(0) # Hadamard ancilla again\n",
    "\n",
    "    # Measure the ancilla\n",
    "    qc.measure(0, 0)\n",
    "\n",
    "    res = execute(qc, simulator, shots=1024).result()\n",
    "    counts = res.get_counts()\n",
    "    \n",
    "    # Prob of 1\n",
    "    p_1 = counts.get('1', 0) / 1024\n",
    "    if p_1 <= 0.5:\n",
    "        overlap = np.sqrt(1 - 2 * p_1)\n",
    "\n",
    "    return p_1, overlap"
   ],
   "id": "cec49fbb55d9fae5",
   "outputs": [],
   "execution_count": 1048
  },
  {
   "metadata": {
    "ExecuteTime": {
     "end_time": "2024-12-13T17:50:43.517590Z",
     "start_time": "2024-12-13T17:50:43.514878Z"
    }
   },
   "cell_type": "code",
   "source": [
    "import math\n",
    "def est_fit(\n",
    "    F: np.ndarray,\n",
    "    y: np.ndarray,\n",
    "):\n",
    "    \"\"\"    \n",
    "    :param F: A numpy 4x3 matrix \n",
    "    :param y: A numpy 4x1 vector\n",
    "    :return: Quantum solution, probability of 1, and the overlap\n",
    "    \"\"\"\n",
    "    # Apply subroutine 1\n",
    "    A, b = perform_pseudoinverse(F, y)\n",
    "    tol = 1e-1\n",
    "    ev_time = pi\n",
    "\n",
    "    # Apply HHL algorithm\n",
    "    A_p, b_p, nq, hhl = hhl_circuit(A, b, tol, ev_time)\n",
    "    job = execute(hhl, backend=backend_qasm, shots=shots)\n",
    "    counts = job.result().get_counts()\n",
    "    failed_count, trimmed_counts = remove_fails(counts.copy())\n",
    "\n",
    "    x_HHL = get_x_hhl(shots, failed_count, trimmed_counts, b)\n",
    "    x = get_x_actual(A, b)\n",
    "\n",
    "    # Apply Swap test -> where are we getting y and sol from?\n",
    "    p_1, overlap = swap_test(x_HHL, x) \n",
    "    return sol, p_1, overlap"
   ],
   "id": "70a86a1a87bdaa06",
   "outputs": [],
   "execution_count": 1049
  },
  {
   "metadata": {},
   "cell_type": "markdown",
   "source": "<b> 3. Learning $\\lambda$ <b>",
   "id": "7e6b22f7bafcf4b0"
  },
  {
   "metadata": {},
   "cell_type": "markdown",
   "source": "Finally, learning $\\lambda$ involves statistical sampling the output of HHL",
   "id": "76b389bdb784ec3b"
  },
  {
   "cell_type": "code",
   "id": "44cdbbd2-e8e5-4ba6-9f24-e9c82b36fa7e",
   "metadata": {
    "ExecuteTime": {
     "end_time": "2024-12-13T17:50:44.076504Z",
     "start_time": "2024-12-13T17:50:44.074069Z"
    }
   },
   "source": [
    "def learn_lambda(\n",
    "    F: np.ndarray,\n",
    "    y: np.ndarray,\n",
    "    nShots: int,\n",
    "):\n",
    "    c = ClassicalRegister(2, 'c')\n",
    "    sol, p_1, overlap = est_fit(F, y)\n",
    "    qc = QuantumCircuit(sol, c)\n",
    "    qc.measure(range(2), c)\n",
    "\n",
    "    # Display lambda\n",
    "    res = execute(qc, backend_qasm, shots=nShots).result() \n",
    "    counts = res.get_counts()\n",
    "    failed_count, trimmed_counts = remove_fails(counts.copy())\n",
    "    plot_histogram(trimmed_counts)   \n",
    "    return trimmed_counts"
   ],
   "outputs": [],
   "execution_count": 1050
  },
  {
   "cell_type": "markdown",
   "id": "eb9b2a54-bd46-4ffd-ba5a-23b8353dfaa4",
   "metadata": {},
   "source": [
    "<b> 4. Testing it all together </b>"
   ]
  },
  {
   "cell_type": "code",
   "id": "4ceefeab-2de5-4ea4-a51a-a63493a1ed35",
   "metadata": {
    "ExecuteTime": {
     "end_time": "2024-12-13T17:50:48.961060Z",
     "start_time": "2024-12-13T17:50:48.946617Z"
    }
   },
   "source": [
    "# F with rank 3\n",
    "F = np.matrix([[1, 0, 0],\n",
    "               [0, 1, 0], \n",
    "               [0, 0, 1], \n",
    "               [1, 1, 1]])\n",
    "\n",
    "print(\"The rank of matrix F is\", np.linalg.matrix_rank(F))\n",
    "\n",
    "# Y (4 x 1) that is not a linear combination of F's columsn\n",
    "y = np.array([[1],\n",
    "             [1],\n",
    "             [1],\n",
    "             [2]])\n",
    "\n",
    "learn_lambda(F, y)"
   ],
   "outputs": [
    {
     "name": "stdout",
     "output_type": "stream",
     "text": [
      "The rank of matrix F is 3\n"
     ]
    },
    {
     "ename": "TypeError",
     "evalue": "learn_lambda() missing 1 required positional argument: 'nShots'",
     "output_type": "error",
     "traceback": [
      "\u001B[0;31m---------------------------------------------------------------------------\u001B[0m",
      "\u001B[0;31mTypeError\u001B[0m                                 Traceback (most recent call last)",
      "Cell \u001B[0;32mIn[1051], line 15\u001B[0m\n\u001B[1;32m      9\u001B[0m \u001B[38;5;66;03m# Y (4 x 1) that is not a linear combination of F's columsn\u001B[39;00m\n\u001B[1;32m     10\u001B[0m y \u001B[38;5;241m=\u001B[39m np\u001B[38;5;241m.\u001B[39marray([[\u001B[38;5;241m1\u001B[39m],\n\u001B[1;32m     11\u001B[0m              [\u001B[38;5;241m1\u001B[39m],\n\u001B[1;32m     12\u001B[0m              [\u001B[38;5;241m1\u001B[39m],\n\u001B[1;32m     13\u001B[0m              [\u001B[38;5;241m2\u001B[39m]])\n\u001B[0;32m---> 15\u001B[0m \u001B[43mlearn_lambda\u001B[49m\u001B[43m(\u001B[49m\u001B[43mF\u001B[49m\u001B[43m,\u001B[49m\u001B[43m \u001B[49m\u001B[43my\u001B[49m\u001B[43m)\u001B[49m\n",
      "\u001B[0;31mTypeError\u001B[0m: learn_lambda() missing 1 required positional argument: 'nShots'"
     ]
    }
   ],
   "execution_count": 1051
  }
 ],
 "metadata": {
  "kernelspec": {
   "display_name": "Python 3 (ipykernel)",
   "language": "python",
   "name": "python3"
  },
  "language_info": {
   "codemirror_mode": {
    "name": "ipython",
    "version": 3
   },
   "file_extension": ".py",
   "mimetype": "text/x-python",
   "name": "python",
   "nbconvert_exporter": "python",
   "pygments_lexer": "ipython3",
   "version": "3.8.20"
  }
 },
 "nbformat": 4,
 "nbformat_minor": 5
}
