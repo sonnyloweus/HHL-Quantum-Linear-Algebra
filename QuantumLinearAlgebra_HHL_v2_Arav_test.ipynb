{
 "cells": [
  {
   "cell_type": "markdown",
   "id": "25f783a5da003247",
   "metadata": {},
   "source": [
    "Notes: Change diagram number of qubits\n",
    "Update Eigenvalue Rotation derivation"
   ]
  },
  {
   "cell_type": "markdown",
   "id": "7902a46b53b60da0",
   "metadata": {},
   "source": [
    "<div style=\"font-family: 'Times New Roman'; font-size: 16px;\">\n",
    "\n",
    "# Quantum Linear Algebra\n",
    "The Harrow–Hassidim–Lloyd (HHL) algorithm [Project 1]  \n",
    "*By Sonny Lowe, David Lee, Arav Raval*\n",
    "\n",
    "</div>\n"
   ]
  },
  {
   "cell_type": "markdown",
   "id": "13c298c4c4b89370",
   "metadata": {},
   "source": [
    "<div style=\"font-family: 'Times New Roman'; font-size: 16px;\">\n",
    "\n",
    "This notebook will discuss the Harrow-Hassidim-Lloyd (HHL) quantum algorithm, meant for solving a linear system\n",
    "$$A\\vec{x}=\\vec{b} \\text{ ,  where } A \\text{ is a hermitian matrix}$$\n",
    "and where $\\vec{x}$ and $\\vec{b}$ ultimately represent quantum states $\\ket{x}$ and $\\ket{b}$ respectively. We will provide a derivation, implementation, generalization to non-hermitian matrices, as well as the context for HHL as a subroutine.\n",
    "\n",
    "Note: we will generally be working in the normalized domain.\n",
    "</div>"
   ]
  },
  {
   "cell_type": "markdown",
   "id": "7cd0ffd3d4183751",
   "metadata": {},
   "source": [
    "<div style=\"font-family: 'Times New Roman'; font-size: 16px;\">\n",
    "\n",
    "### Section 1: Mathematical Derivation\n",
    " \n",
    "Our problem is represented as \n",
    "$$A\\ket{x} = \\ket{b}$$\n",
    "where $\\ket{b} \\in \\mathbb{C}^N$ is some given quantum state and $A \\in \\mathbb{C}^{N\\times N}$. Our goal is to solve for $\\ket{x} \\in \\mathbb{C}^N$ under a few conditions:\n",
    "- $A$ is hermitian such that $A = A^\\dagger$\n",
    "- $A$ is $s$-sparse and well conditioned, meaning it has at most $s$ nonzero entries per row and its condition number  $\\kappa(A)$ is relatively small such that the system is stable and less sensitive to perturbations.\n",
    "We will break down the derivation into several steps.\n",
    "- We have access to an \"oracle\" of A in that we have its eigenvalues to use in our circuit (potential weakness).\n",
    "- We assume there exists some efficient algorithm to prepare $\\ket{b}$\n",
    "\n",
    "<br>\n",
    "\n",
    "#### **1. Rewriting and Initialization**\n",
    "Given that $A$ is a hermitian matrix, there exists a spectral decomposition such that the matrix can be diagonalized by unitary transformations.\n",
    "$$A = UDU^T,\\quad \\text{ where } U \\text{ is a unitary matrix and } D \\text{ is diagonal composed of the real eigenvalues of } A$$\n",
    "Since the columns of $U$ form an orthonormal basis and are the eigenvalues, we can rewrite this decomposition where $\\ket{u_{j}}$ is the $j^{th}$ eigenvector of $A$ with respective eigenvalue $\\lambda_{j}$ as:\n",
    "$$A = \\sum_{i=0}^{N-1}\\lambda_{i}\\ket{u_{i}}\\bra{u_{i}}, \\quad \\lambda_{i}\\in\\mathbb{ R }$$\n",
    "Likewise, as a linear transformation, we can write our resultant vector $\\ket{b}$ in the eigenbasis of $A$.\n",
    "$$\\ket{b} = \\sum_{i=0}^{N-1}b_{i}\\ket{u_{i}}, \\quad b_{i}\\in\\mathbb{ C }$$\n",
    "Thus, our problem can now be rewritten as:\n",
    "$$\\ket{x} = A^{-1}\\ket{b} = \\sum_{i=0}^{N-1}\\frac{1}{\\lambda_{i}}b_{i}\\ket{u_{i}}\\bra{u_{i}}u_{i}\\rangle = \\sum_{i=0}^{N-1}\\frac{1}{\\lambda_{i}}b_{i}\\ket{u_{i}}$$\n",
    "\n",
    "Moreover, note that to represent a state vector $\\ket{b}$ of dimension $N$, to prepare it as a quantum register, we prepare it in binary basis using $\\log_2{N}$ qubits. Therefore, from here on, $N = \\log_2{N}$.\n",
    "\n",
    "<br>\n",
    "\n",
    "#### **2. Quantum Phase Estimation**\n",
    "The problem first boils down to being able to decompose a matrix to find its eigenvalues and eigenvectors in a computationally efficient manner. At a high level, Quantum Phase Estimation is a procedure that performs a series of controlled-$U$ gates given some unitary matrix $U$ with eigenvalues of the form $e^{2\\pi i \\theta}$, and finds the phase $\\theta$.\n",
    "\n",
    "The number of qubits required for QPE is defined by the required additive error epsilon $\\epsilon$, where we will set $n_q = O(\\log{\\frac{1}{\\epsilon}})$ representing the number of qubits needed.\n",
    "\n",
    "For HHL, first, we start with two registers $\\ket{0}^{\\otimes n_q}$ and $\\ket{b}$. Our initial state is thus $\\ket{\\Phi_0} = \\ket{0}^{\\otimes n_q} \\otimes \\ket{b}.$ Then we can characterize the behavior of **QPE** as:\n",
    "$$\\textbf{QPE}(U,\\ket{0}^{\\otimes n_q},\\ket{b}) = \\textbf{QPE}(U,\\ket{0}^{\\otimes n_q},\\sum_{j=0}^{N-1}b_{j}\\ket{u_{j}}) = \\sum_{j=0}^{N-1}b_{j} \\ket{\\tilde{\\lambda_{j}}}_{n_q}  \\ket{u_{j}}, \\quad\\text{ for some clever choice of } U$$\n",
    "\n",
    "We will choose $U = e^{iAt}$ for some constant $t$ such that $U$ is governed by the same eigenvalues of $A$ and we have that, where $\\ket{u_{j}}$ is the $j^{th}$ eigenvector of $A$ with respective eigenvalue $\\lambda_{j}$:\n",
    "$$U = e^{iAt} = \\sum_{j=0}^{N-1}e^{i\\lambda_{j}t}\\ket{u_j}\\bra{u_j}$$\n",
    "\n",
    ">1. First, we hadamard our first register of $\\ket{0}^{\\otimes n_q}$. $H^{\\otimes n_q}\\ket{\\Phi_0} = \\frac{1}{2^{n/2}}(\\ket{0} + \\ket{1})^{\\otimes n_q} \\otimes \\ket{b}$\n",
    ">2. Next, we perform a series of $n_q$ controlled-$U$ gates such that for $k = {0,...,2^{n_q-1}}$, we create the gate (where $\\ket{k}$ is the k-th qubit in the $n_q$ registrar and t is some evolution time): $CU^{2^k}(\\ket{k}, \\ket{b}) =_{\\text{if} \\ket{k}=\\ket{1}} \\ket{k} \\otimes U^{2^k}\\ket{b}$. The composition of all N of these such gates yields the state (with normalization):\n",
    "$$ \\ket{b} \\otimes \\frac{1}{\\sqrt{2^n}} \\sum_{k=0}^{2^{n_q-1}} e^{i k \\lambda_j t} \\ket{k}$$\n",
    " >3. Consider just our $n_q$ (control) register, which is now superposed through unitary entanglements to the state:\n",
    " $$ \\frac{1}{\\sqrt{2^n}} \\sum_{k=0}^{2^{n_q-1}} e^{i k \\lambda_j t} \\ket{k} $$\n",
    " $$ \\text{where the phase factor is }\\quad \\lambda_i t = 2\\pi\\theta $$\n",
    " It is clear now that the encoded phase factor we desire (which represents the eigenvalues of $A$), can be extracted through the inverse quantum fourier transform operation. Thus, applying **QFT$^{-1}$** has the following behavior:\n",
    " $$\\textbf{QTF}^{-1}(\\frac{1}{\\sqrt{2^n}} \\sum_{k=0}^{2^{n_q-1}} e^{i k \\lambda_j t} \\ket{k}) \\mapsto \\ket{\\theta 2^{n_q}} \\quad\\text{ which encodes } \\theta_j 2^{n_q} = \\lambda_j t / 2\\pi \\quad\\Rightarrow \\tilde{\\lambda_j} = \\frac{\\lambda_j t 2^{n_q}}{2\\pi}$$\n",
    " If we set $t=2\\pi l$ for some constant $l$, we have essentially calculated an approximation of our actual eigenvalues after normalization. Thus, for our total state, we are left with a register that by superposition now encodes an approximation of our eigenvalues into $n_q$ qubits.:\n",
    " $$\\sum_{j=0}^{N-1}b_{j}\\ket{\\tilde{\\lambda_j}}_{n_q}\\ket{u_j}$$\n",
    "\n",
    "<br>\n",
    "\n",
    "#### **3. Controlled Rotation**\n",
    "With our new intermediate state $\\sum_{j=0}^{N-1}b_{j}\\ket{\\tilde{\\lambda_j}}_{n_q}\\ket{u_j}$, our next problem is to produce the \"eigenvalues' reciprocal.\" We will do this by applying a series of controlled rotations. These rotations will utilize the control register which now encodes the eigenvalues applied onto a new ancilla register that will extract $\\frac{1}{\\tilde{\\lambda}}$. (Checkpoint: by now, we have created 3 registers with a total state of $\\ket{\\tilde{\\lambda}}_{n_q} \\otimes \\ket{b}_N \\otimes \\ket{0}_{ancilla}$)\n",
    "\n",
    "To do this, we will encode the ancilla qubit to the following state:\n",
    "$$\\ket{0}_{ancilla} \\mapsto \\sum_{j=0}^{N-1} \\sqrt{1 - \\left(\\frac{C}{\\tilde{\\lambda_j}}\\right)^2}\\ket{0}+\\frac{C}{\\tilde{\\lambda_j}}\\ket{1}$$\n",
    "\n",
    "$C$ is some constant that corresponds to the success rate of the ancilla being in the state $\\ket{1}$. However, it must not exceed the value of the smallest $\\tilde{\\lambda_j}$ as evident. Therefore, we aim to find the maximal $C$ such that $C < \\min_{j}\\tilde{\\lambda_j}$.\n",
    "\n",
    "Considering the general state $\\ket{\\psi} = \\cos(\\theta/2)\\ket{0} + e^{i\\phi}\\sin(\\theta/2)\\ket{1}$ allows us to clearly see that $\\theta_j = 2\\arcsin(C/\\tilde{\\lambda_j}) \\quad \\forall j$. We are left with\n",
    " $$\\sum_{j=0}^{N-1}\\ket{\\tilde{\\lambda_j}}\\otimes b_{j}\\ket{u_j} \\otimes \\sqrt{1 - \\left(\\frac{C}{\\tilde{\\lambda_j}}\\right)^2}\\ket{0}+\\frac{C}{\\tilde{\\lambda_j}}\\ket{1}$$\n",
    "\n",
    "<br>\n",
    "\n",
    "#### **4. Uncompute**\n",
    "Next, we want to uncompute our eigenvalue register by applying the dagger of QPE. This consists of first applying QFT, then simplying applying the conditioned inverse of the unitary matrix $U$ followed by hadamards. We are left with a scaled approximation:\n",
    " $$\\sum_{j=0}^{N-1}\\ket{0}\\otimes b_{j}\\ket{u_j} \\otimes \\sqrt{1 - \\left(\\frac{C}{\\tilde{\\lambda_j}}\\right)^2}\\ket{0}+\\frac{C}{\\lambda_j}\\ket{1}$$\n",
    "\n",
    "<br>\n",
    "\n",
    "#### **5. Measure Ancillas**\n",
    "Finall, we will measure the ancilla, which after normalization, yields the post measurement state if our ancillas have the desired outcome of $\\ket{1}$ in the form:\n",
    "$$\\sum_{j=0}^{N-1}\\frac{1}{\\lambda_{j}}b_{j}\\ket{u_{j}}\\ket{1}_{ancilla}$$\n",
    "It is here that we see that this process is not deterministic and can fail up to a probability if our ancilla is in $\\ket{0}$. Thus, we will repeat the process of steps 2-4 until success (ancilla is $\\ket{1}$).\n",
    "\n",
    "<br>\n",
    "\n",
    "#### **6. Extracting Answer**\n",
    "We can see now that our registers hold our solution in the form of $A^{-1}\\ket{b}$. However, since the state $\\ket{x}$ is determined in our registers as a superposition, we cannot measure the full state in one shot without collapsing it to a single basis state. However, by measuring certain observables, you can gain useful information about the state without fully collapsing it. The quantum expectation value $\\bra{x}M\\ket{x}$ for a given observable $M$ is useful in the context of a subroutine because it can allow us to:\n",
    "- obtain information about the solution $\\ket{x}$ for instance, the probability distribution of components of $\\ket{x}$ in a particular basis).\n",
    "- Measure a function of the solution, such as a dot product or a norm, which might be useful in applications without needing the full solution.\n",
    "\n",
    "<br>\n",
    "\n",
    "#### **Our overall circuit diagram:**\n",
    "<img src=\"./assets/schematic-1.png\" alt=\"General Design\" width=\"600\" />\n",
    "\n",
    "</div>"
   ]
  },
  {
   "cell_type": "markdown",
   "id": "3eac5148b822d5c",
   "metadata": {},
   "source": [
    "<div style=\"font-family: 'Times New Roman'; font-size: 16px;\">\n",
    "\n",
    "### Section 2: Generalization to Non-Hermitian\n",
    "The case where $A \\in \\mathbb{C}^{N\\times N}$ is not hermitian is actually quite easy to resolve. Simply construct a new matrix $C \\in \\mathbb{C}^{2N \\times 2N}$:\n",
    "$$ C = \\begin{bmatrix}0&A\\\\A^{\\dagger}&0\\end{bmatrix} $$\n",
    "Notice that $C$ is immediately hermitian:\n",
    "$$ C^{\\dagger} = \\begin{bmatrix}0&A^{\\dagger}\\\\A^{\\dagger^{\\dagger}}&0\\end{bmatrix}^T = \\begin{bmatrix}0&A\\\\A^{\\dagger}&0\\end{bmatrix} $$\n",
    "and the properties of sparesness and well conditioning remain relative to this new matrix.\n",
    "\n",
    "Notice now that our problem changes as such:\n",
    "$$A\\vec{x}=\\vec{b} \\text{ ,  where } A \\text{ is non-hermitian} \\quad\\Rightarrow\\quad C\\begin{bmatrix}0\\\\x\\end{bmatrix} = \\begin{bmatrix}b\\\\0\\end{bmatrix} \\text{ ,  where } C \\text{ is a hermitian matrix} $$\n",
    "</div>"
   ]
  },
  {
   "cell_type": "markdown",
   "id": "b8a81be226284cbe",
   "metadata": {},
   "source": [
    "<div style=\"font-family: 'Times New Roman'; font-size: 16px;\">\n",
    "\n",
    "### Section 3: Sample Implementation\n",
    "\n",
    "<br>\n",
    "\n",
    "This project utilizes IBM's Qiskit \n",
    "- qiskit == 0.44.2\n",
    "- qiskit-aer == 0.12.2\n",
    "- qiskit-terra == 0.25.2.1\n",
    "\n",
    "</div>"
   ]
  },
  {
   "cell_type": "code",
   "execution_count": 4,
   "id": "3f975abfbf612d5",
   "metadata": {
    "ExecuteTime": {
     "end_time": "2024-12-11T19:14:12.220477Z",
     "start_time": "2024-12-11T19:14:11.100450Z"
    }
   },
   "outputs": [],
   "source": [
    "# Some generic python and jupyter imports\n",
    "import numpy as np\n",
    "from numpy import pi,sqrt\n",
    "\n",
    "from qiskit import(QuantumCircuit, execute, Aer, ClassicalRegister, QuantumRegister)\n",
    "from sympy import false\n",
    "\n",
    "backend_svec = Aer.get_backend('statevector_simulator')\n",
    "backend_qasm = Aer.get_backend('qasm_simulator')\n",
    "\n",
    "# Circuit imports\n",
    "from qiskit.extensions import UnitaryGate\n",
    "from qiskit.circuit.library import QFT\n",
    "from qiskit.circuit.library import PhaseEstimation\n",
    "from qiskit.quantum_info import Statevector\n",
    "from qiskit.circuit.library.arithmetic.exact_reciprocal import ExactReciprocal\n",
    "\n",
    "# Visualizations\n",
    "from qiskit.visualization import plot_histogram\n",
    "import matplotlib.pyplot as plt# implementation of a sample case here"
   ]
  },
  {
   "cell_type": "code",
   "execution_count": 133,
   "id": "6d4723da6f1f3113",
   "metadata": {
    "ExecuteTime": {
     "end_time": "2024-12-11T21:35:40.863639Z",
     "start_time": "2024-12-11T21:35:40.847027Z"
    }
   },
   "outputs": [],
   "source": [
    "def prepare_hhlparams(\n",
    "        A: np.ndarray,\n",
    "        b: np.ndarray,\n",
    "        tol: float,\n",
    "        ev_time: float,\n",
    ")-> (np.ndarray, np.ndarray, np.ndarray, int, int):\n",
    "    if not isinstance(A, np.ndarray) or A.ndim != 2:\n",
    "        raise TypeError('A must be a 2D numpy matrix')\n",
    "    elif not isinstance(b, np.ndarray) or b.ndim != 1:\n",
    "        raise TypeError('b must be a 1D numpy matrix')\n",
    "    elif A.shape[0] != A.shape[1]:\n",
    "        raise ValueError(\"A must be a square matrix.\")\n",
    "    elif A.shape[0] != b.size: \n",
    "        raise ValueError(\"Invalid dimensions for linear system.\")\n",
    "    elif np.linalg.det(A) == 0:\n",
    "        raise ValueError(\"A must an invertible matrix.\")\n",
    "    elif np.abs(np.linalg.norm(b) - 1) > 1e-6:\n",
    "        raise ValueError(\"b must be a normalized vector.\")\n",
    "    # assuming matrix sparsity and well conditioned\n",
    "    \n",
    "    #### CONSTANTS ####\n",
    "    n = len(b)\n",
    "    nq = int(np.log(1/tol)) # bits needed for QPE register\n",
    "    t = ev_time # evolution time, multiple of pi\n",
    "    \n",
    "    #### PREPARE MATRIX ####\n",
    "       # HERMITIAN CHECKER #\n",
    "    C = A\n",
    "    if not np.allclose(A, np.conjugate(A.T)):\n",
    "        C = np.block([[np.zeros_like(A), A], [np.conj(A.T), np.zeros_like(A)]])\n",
    "        n *= 2\n",
    "       # PADDING MATRIX #\n",
    "    nb = int(np.ceil(np.log2(C.shape[0])))\n",
    "    N = 2**nb\n",
    "    if C.shape[0] != N:\n",
    "        C_pad = np.eye(N, dtype=complex)\n",
    "        C_pad[:n, :n] = C\n",
    "        C = C_pad\n",
    "    \n",
    "    #### PREPARE VECTOR (padding) ####\n",
    "    b_pad = b\n",
    "    if b.shape[0] != N:\n",
    "        b_pad = np.pad(b, (0, N - len(b)))\n",
    "        \n",
    "    #### PREPARE UNITARY MATRIX U ####\n",
    "    eigenvalues, eigenvectors = np.linalg.eigh(C)     \n",
    "    exp_diag = np.diag(np.exp(1j * eigenvalues * t))\n",
    "    U = eigenvectors @ exp_diag @ eigenvectors.conj().T\n",
    "            \n",
    "    return C, b_pad, U, nb, nq\n",
    "    "
   ]
  },
  {
   "cell_type": "code",
   "execution_count": 284,
   "id": "b2aacac6deec2afe",
   "metadata": {
    "ExecuteTime": {
     "end_time": "2024-12-11T23:06:51.638019Z",
     "start_time": "2024-12-11T23:06:51.615381Z"
    }
   },
   "outputs": [],
   "source": [
    "def QPE_extractor_circuit(\n",
    "        b: np.ndarray,\n",
    "        U: np.ndarray,\n",
    "        nb: int,\n",
    "        nq: int,\n",
    ")-> QuantumCircuit:\n",
    "    n_b = QuantumRegister(nb, 'b')\n",
    "    n_q = QuantumRegister(nq, 'QPE')\n",
    "    cb = ClassicalRegister(nq,'cb')\n",
    "    #### INITIALIZE B ####\n",
    "    init_circ = QuantumCircuit(n_b, n_q, cb)\n",
    "    init_circ.initialize(b, n_b)\n",
    "    init_circ.barrier()\n",
    "    #### QPE CIRCUIT ####\n",
    "    qpe_circ = QuantumCircuit(n_b, n_q, cb)\n",
    "    qpe_circ.h(n_q)\n",
    "    U_k = U\n",
    "    for i in range(nq):\n",
    "        if i != 0:\n",
    "            U_k = U_k @ U_k\n",
    "        U_k, _, Vh = np.linalg.svd(U_k, full_matrices=False)\n",
    "        U_k = U_k @ Vh\n",
    "        CU_gate = UnitaryGate(U_k, label=(\"$U^{2^\" + str(i) + \"}$\")).control(1)\n",
    "        qpe_circ.append(CU_gate, list(np.concatenate(([nb+i], np.arange(nb)))))\n",
    "    qpe_circ.append(QFT(nq, inverse=True), n_q)\n",
    "    qpe_circ.barrier()\n",
    "    #### MEASURE QPE ####\n",
    "    measureQPE_circ = QuantumCircuit(n_b, n_q, cb)\n",
    "    measureQPE_circ.measure(n_q, cb)\n",
    "    measureQPE_circ.barrier()\n",
    "    \n",
    "    circuit = init_circ.compose(qpe_circ)\n",
    "    circuit = circuit.compose(measureQPE_circ)\n",
    "    return circuit\n",
    "\n",
    "def QPE_extractor(\n",
    "        b: np.ndarray,\n",
    "        U: np.ndarray,\n",
    "        nb: int,\n",
    "        nq: int,\n",
    "        tol: float,\n",
    "        t: float,\n",
    "):\n",
    "    circuit = QPE_extractor_circuit(b, U, nb, nq)\n",
    "    nq = int(np.log(1/tol)) # number of qubits in QPE register\n",
    "    job = execute(circuit, backend=backend_qasm, shots=2**16)\n",
    "    counts = job.result().get_counts()\n",
    "    \n",
    "    eigenvalue_qpe = []\n",
    "    bitstrings = list(counts.keys())\n",
    "    for bitstring in bitstrings:\n",
    "        eigenvalue_qpe.insert(0, int(bitstring, 2))\n",
    "    return np.array(eigenvalue_qpe)\n"
   ]
  },
  {
   "cell_type": "code",
   "execution_count": 364,
   "id": "d4d2a0dbb961f6fa",
   "metadata": {
    "ExecuteTime": {
     "end_time": "2024-12-12T00:58:06.558131Z",
     "start_time": "2024-12-12T00:58:06.531926Z"
    }
   },
   "outputs": [],
   "source": [
    "def hhl_circuit(\n",
    "        A: np.ndarray,\n",
    "        b: np.ndarray,\n",
    "        tol: float = 1e-1,\n",
    "        t: float = pi,\n",
    ") -> QuantumCircuit:\n",
    "    \"\"\"    \n",
    "    :param A: A numpy matrix \n",
    "    :param b: A numpy vector\n",
    "    :return: A quantum circuit for the hhl algorithm\n",
    "    \"\"\"\n",
    "    \n",
    "    #### PREPARE REGISTERS + PARAMS ####\n",
    "    n_og = b.shape[0]\n",
    "    A, b, U, nb, nq = prepare_hhlparams(A, b, tol, ev_time)\n",
    "    n_b = QuantumRegister(nb, 'b')\n",
    "    n_q = QuantumRegister(nq, 'QPE')\n",
    "    n_a = QuantumRegister(1, 'aux')\n",
    "    cb = ClassicalRegister(1+nb,'cb')\n",
    "  \n",
    "    #### INITIALIZE B ####\n",
    "    init_circ = QuantumCircuit(n_b, n_q, n_a, cb)\n",
    "    init_circ.initialize(b, n_b)\n",
    "    init_circ.barrier()\n",
    "    \n",
    "    #### QPE CIRCUIT ####\n",
    "    qpe_circ = QuantumCircuit(n_b, n_q, n_a, cb)\n",
    "    qpe_circ.h(n_q)\n",
    "    U_k = U\n",
    "    for i in range(nq):\n",
    "        if i != 0:\n",
    "            U_k = U_k @ U_k\n",
    "        U_k, _, Vh = np.linalg.svd(U_k, full_matrices=False)\n",
    "        U_k = U_k @ Vh\n",
    "        CU_gate = UnitaryGate(U_k, label=(\"$U^{2^\" + str(i) + \"}$\")).control(1)\n",
    "        qpe_circ.append(CU_gate, list(np.concatenate(([nb+i], np.arange(nb)))))\n",
    "    qpe_circ.append(QFT(nq, inverse=True), n_q)\n",
    "    qpe_circ.barrier()\n",
    "    \n",
    "    #### EIGENVALUE ROTATION CIRCUIT ####\n",
    "    eigenvalues_qpe = QPE_extractor(b,U,nb,nq,tol,t)\n",
    "    print(eigenvalues_qpe)\n",
    "    # C_coeff = np.min(eigenvalues_qpe)\n",
    "    # thetas = 2 * np.arcsin(1/eigenvalues_qpe)\n",
    "    # eigrot_circ = QuantumCircuit(n_b, n_q, n_a, cb)\n",
    "    # for i in range(len(thetas)):\n",
    "    #     eigrot_circ.cry(thetas[i], n_q[i], n_a)\n",
    "    # eigrot_circ.barrier()\n",
    "    \n",
    "    reciprocal_circuit = ExactReciprocal(nq, 1/(2**nq))\n",
    "    reciprocal_circuit.barrier()\n",
    "    \n",
    "    #### MEASURING ANCILLA ####\n",
    "    measure_anc_circ = QuantumCircuit(n_b, n_q, n_a, cb)\n",
    "    measure_anc_circ.measure(n_a, cb[0])\n",
    "    measure_anc_circ.barrier()\n",
    "    \n",
    "    #### UNCOMPUTING QPE CIRCUIT ####\n",
    "    U_dag = np.conj(U.T)\n",
    "    qpe_dag_circ = QuantumCircuit(n_b, n_q, n_a, cb)\n",
    "    qpe_dag_circ.append(QFT(nq, inverse=False), n_q)\n",
    "    for i in range(nq-1, -1, -1):\n",
    "        U_dag_k = np.linalg.matrix_power(U_dag, 2**i)\n",
    "        U_dag_k, _, Vh = np.linalg.svd(U_dag_k, full_matrices=False)\n",
    "        U_dag_k = U_dag_k @ Vh\n",
    "        CU_gate = UnitaryGate(U_dag_k, label=(\"$(U^{2^\" + str(i) + \")^\\dagger}$\")).control(1)\n",
    "        qpe_dag_circ.append(CU_gate, list(np.concatenate(([nb+i], np.arange(nb)))))\n",
    "    qpe_dag_circ.h(n_q)\n",
    "    qpe_dag_circ.barrier()\n",
    "    \n",
    "    #### MEASURING B ####\n",
    "    measureb_circ = QuantumCircuit(n_b, n_q, n_a, cb)\n",
    "    measureb_circ.measure(n_b, cb[1:])\n",
    "    \n",
    "    #### COMPOSING THE CIRCUIT ####\n",
    "    circuit = init_circ.compose(qpe_circ)\n",
    "        # circuit = circuit.compose(QPE_verify_circuit(n_b, n_q, n_a, cb))\n",
    "    # circuit = circuit.compose(eigrot_circ)\n",
    "    circuit = circuit.compose(reciprocal_circuit, qubits=n_q[:] + n_a[:],)\n",
    "    circuit = circuit.compose(measure_anc_circ)\n",
    "    circuit = circuit.compose(qpe_dag_circ)\n",
    "    circuit = circuit.compose(measureb_circ)\n",
    "\n",
    "    return A, b, circuit"
   ]
  },
  {
   "cell_type": "code",
   "execution_count": 370,
   "id": "6d145c6182529ef3",
   "metadata": {
    "ExecuteTime": {
     "end_time": "2024-12-12T00:59:00.899748Z",
     "start_time": "2024-12-12T00:59:00.055035Z"
    }
   },
   "outputs": [
    {
     "name": "stdout",
     "output_type": "stream",
     "text": [
      "[0 3 2 1]\n"
     ]
    },
    {
     "data": {
      "image/png": "[encoded data removed]",
      "text/plain": [
       "<Figure size 1999.37x618.722 with 1 Axes>"
      ]
     },
     "execution_count": 370,
     "metadata": {},
     "output_type": "execute_result"
    }
   ],
   "source": [
    "tol = 1e-1\n",
    "ev_time = pi\n",
    "\n",
    "# A is a 3x3 invertible non hermitian sparse matrix that is well scaled\n",
    "A = np.array([[1, 0, 0],\n",
    "              [0, 3/4, 1/2],\n",
    "              [0, 0, 1/4]])\n",
    "b = np.array([0, 0, 1])\n",
    "# A = np.array([[3/4, 1/4],\n",
    "#               [1/4, 3/4]])\n",
    "# b = np.array([0, 1])\n",
    "A, b, hhl = hhl_circuit(A, b, tol, ev_time)\n",
    "hhl.draw('mpl')"
   ]
  },
  {
   "cell_type": "code",
   "execution_count": 371,
   "id": "9fa7adc2ecda4435",
   "metadata": {
    "ExecuteTime": {
     "end_time": "2024-12-12T00:59:05.630201Z",
     "start_time": "2024-12-12T00:59:05.296411Z"
    }
   },
   "outputs": [
    {
     "data": {
      "image/png": "[encoded data removed]",
      "text/plain": [
       "<Figure size 700x500 with 1 Axes>"
      ]
     },
     "execution_count": 371,
     "metadata": {},
     "output_type": "execute_result"
    }
   ],
   "source": [
    "job = execute(hhl, backend=backend_qasm, shots=2**16)\n",
    "counts = job.result().get_counts()\n",
    "plot_histogram(counts)\n"
   ]
  },
  {
   "cell_type": "markdown",
   "id": "e71cd81a945a07ae",
   "metadata": {},
   "source": [
    "<div style=\"font-family: 'Times New Roman'; font-size: 16px;\">\n",
    "\n",
    "### Section 4: Subroutines\n",
    "\n",
    "</div>"
   ]
  },
  {
   "cell_type": "markdown",
   "id": "26086036-b7b8-4470-a0b4-52eabedeccfa",
   "metadata": {},
   "source": [
    "Given a data fitting problem with an $F \\in \\mathbb{R}^{4\\times3}$ with rank 3. Additionally, $y \\in \\mathbb{R}^{4}$ is not a linear combination of the columns of $F$. The following subroutines exist under the broader Moore-Penrose pseudoinverse of $F, F^+$ to $y$ \\\n",
    "$$\\lambda = F^+y = (F^\\textdagger F)^{-1} F^\\textdagger y$$"
   ]
  },
  {
   "cell_type": "markdown",
   "id": "659d4490-3f5b-4515-b777-a14f5117704c",
   "metadata": {
    "ExecuteTime": {
     "end_time": "2024-12-11T20:58:41.348571Z",
     "start_time": "2024-12-11T20:58:41.344997Z"
    }
   },
   "source": [
    "<b> 1. Performing the Pseudoinverse<b>"
   ]
  },
  {
   "cell_type": "markdown",
   "id": "ed77d8fb-be25-432a-896c-863d96f9307a",
   "metadata": {},
   "source": [
    "Given our original problem $\\lambda = F^+y = (F^\\textdagger F)^{-1} F^\\textdagger y$, we can reformulate the components to be written as $$(F^\\textdagger F) \\lambda =  F^\\textdagger y$$\n",
    "\n",
    "This has the same structure as the linear system $Ax = b$, where $A = (F^\\textdagger F)$ and $b = F^\\textdagger y$. Therefore, we can apply the HHL algorithm from part (a) to estimate $\\lambda$. \n",
    "\n",
    "Given that $\\frac{1}{\\kappa ^ 2} \\le || F^{\\textdagger} F || \\le 1$ and $\\frac{1}{\\kappa ^ 2} \\le || F F^{\\textdagger}|| \\le 1$ we know that A is well-conditioned. Given that we proved that HHL generalizes to non-hermitian matrices, we aren't concerned with proving A as Hermitian"
   ]
  },
  {
   "cell_type": "code",
   "execution_count": 1,
   "id": "c94b36e5-3f3b-431a-938b-e7e272e4cd82",
   "metadata": {
    "ExecuteTime": {
     "end_time": "2024-12-13T03:03:21.925691Z",
     "start_time": "2024-12-13T03:03:21.920032Z"
    }
   },
   "outputs": [
    {
     "ename": "SyntaxError",
     "evalue": "unmatched ')' (4081217445.py, line 4)",
     "output_type": "error",
     "traceback": [
      "\u001b[0;36m  Cell \u001b[0;32mIn[1], line 4\u001b[0;36m\u001b[0m\n\u001b[0;31m    ) -> A, b:\u001b[0m\n\u001b[0m    ^\u001b[0m\n\u001b[0;31mSyntaxError\u001b[0m\u001b[0;31m:\u001b[0m unmatched ')'\n"
     ]
    }
   ],
   "source": [
    "def perform_pseudoinverse(F, y):\n",
    "    F: np.ndarray,\n",
    "    y: np.ndarray,\n",
    ") -> A, b:\n",
    "    \"\"\"    \n",
    "    :param F: A numpy 4x3 matrix \n",
    "    :param y: A numpy 4x1 vector\n",
    "    :return: A and b values usable for the hhl algorithm\n",
    "    \"\"\"\n",
    "    A = F.getH() * F # (3x4) * (4x3) --> (3x3) shape\n",
    "    b = F.getH() * y # (3x4) * (4x1) --> (3x1) shape\n",
    "\n",
    "    ## Given that qubits inherently function in a 2^n system, we need to pad A and b. \n",
    "    ## However, HHL algorithm is built with padding checks\n",
    "    \n",
    "    return A, b"
   ]
  },
  {
   "cell_type": "markdown",
   "id": "c971d5dd-78eb-4be9-a5ad-39e625236f19",
   "metadata": {},
   "source": [
    "\n",
    "<b> 2. Estimating Fit Quality <b>"
   ]
  },
  {
   "cell_type": "markdown",
   "id": "0383a85f-340f-4f3f-8d80-80fb162633b0",
   "metadata": {},
   "source": [
    "Estimating the Fit Quality translates to applying the HHL algorithm on A and b. Given the same inputs as the pseudoinverse, we can use the first subroutine to construct the state $I(F)A^{-1}I(F^{\\textdagger})|y⟩⊗|y⟩=I(F)^{-1}I(F^{\\textdagger})|y⟩⊗|y⟩$. We can then apply the HHL algorithm. Finally, we need to perform the Swap Test to distinguish $|y⟩$ and $I(F)|\\lambda⟩$. If the outcome is 1, we can conclude that the states are different."
   ]
  },
  {
   "cell_type": "code",
   "execution_count": null,
   "id": "482a83b3-7df4-4545-803e-10021d697e14",
   "metadata": {},
   "outputs": [],
   "source": [
    "def swap_test(y, sol):\n",
    "    \"\"\"\n",
    "    :param y: Numpy array representing |y⟩\n",
    "    :param quantum_solution: Numpy array representing I(F)|λ⟩\n",
    "    :return: Probability of measuring 1 and overlap given by sqrt((1 - 2 * p_1))\n",
    "    \"\"\"    \n",
    "    n = int(math.log2(F.shape[0]))\n",
    "    qc = QuantumCircuit(2*n + 1, 1)\n",
    "\n",
    "    qc.initialize(y, range(1, n + 1))\n",
    "    qc.initialize(sol, range(n + 1, 2 * n + 1))\n",
    "    \n",
    "    qc.h(0) #Hadamard ancilla\n",
    "\n",
    "    # Apply SWAP gates\n",
    "    for i in range(n):\n",
    "        qc.cswap(0, i+1, i+n+1)\n",
    "\n",
    "    qc.h(0) # Hadamard ancilla again\n",
    "\n",
    "    # Measure the ancilla\n",
    "    qc.measure(0, 0)\n",
    "\n",
    "    res = execute(qc, simulator, shots=1024).result()\n",
    "    counts = res.get_counts()\n",
    "    \n",
    "    # Prob of 1\n",
    "    p_1 = counts.get('1', 0) / 1024\n",
    "    if p_1 <= 0.5:\n",
    "        overlap = np.sqrt(1 - 2 * p_1)\n",
    "\n",
    "    return p_1, overlap"
   ]
  },
  {
   "cell_type": "code",
   "id": "6e24a6cc-068a-403b-aed4-3e6b56c06103",
   "metadata": {
    "ExecuteTime": {
     "end_time": "2024-12-13T03:19:38.352521Z",
     "start_time": "2024-12-13T03:19:38.344816Z"
    }
   },
   "source": [
    "import math\n",
    "def est_fit(F, y):\n",
    "    F: np.ndarray,\n",
    "    y: np.ndarray,\n",
    ") -> sol, p_1, overlap:\n",
    "    \"\"\"    \n",
    "    :param F: A numpy 4x3 matrix \n",
    "    :param y: A numpy 4x1 vector\n",
    "    :return: Quantum solution, probability of 1, and the overlap\n",
    "    \"\"\"\n",
    "    # Apply subroutine 1\n",
    "    A, b = perform_pseudoinverse(F, y)\n",
    "    tol = 1e-1\n",
    "    ev_time = pi\n",
    "\n",
    "    # Apply HHL algorithm\n",
    "    A, b, hhl = hhl_circuit(A, b, tol, ev_time)\n",
    "    \n",
    "    # Apply Swap test -> where are we getting y and sol from?\n",
    "    # p_1, overlap = swap_test(y, sol) \n",
    "    return sol, p_1, overlap"
   ],
   "outputs": [
    {
     "ename": "SyntaxError",
     "evalue": "unmatched ')' (2096693595.py, line 5)",
     "output_type": "error",
     "traceback": [
      "\u001B[0;36m  Cell \u001B[0;32mIn[2], line 5\u001B[0;36m\u001B[0m\n\u001B[0;31m    ) -> sol, p_1, overlap:\u001B[0m\n\u001B[0m    ^\u001B[0m\n\u001B[0;31mSyntaxError\u001B[0m\u001B[0;31m:\u001B[0m unmatched ')'\n"
     ]
    }
   ],
   "execution_count": 2
  },
  {
   "cell_type": "markdown",
   "id": "5a6ef8b3-92c8-4d8d-afba-23fad2232b7f",
   "metadata": {},
   "source": [
    "<b> 3. Learning $\\lambda$ <b>"
   ]
  },
  {
   "cell_type": "markdown",
   "id": "5625720c-476b-4cb0-8abc-ca3d930b0c4f",
   "metadata": {},
   "source": [
    "Finally, learning $\\lambda$ involves statistical sampling the output of HHL"
   ]
  },
  {
   "cell_type": "code",
   "execution_count": null,
   "id": "0faf4b6e-4fff-4f65-bb09-0218bc8b74a1",
   "metadata": {},
   "outputs": [],
   "source": [
    "def learn_lambda(F, y):\n",
    "    F: np.ndarray,\n",
    "    y: np.ndarray,\n",
    "):\n",
    "    c = ClassicalRegister(2, 'c')\n",
    "    sol, p_1, overlap = est_fit(F, y)\n",
    "    qc = QuantumCircuit(sol, c)\n",
    "    qc.measure(range(2), c)\n",
    "\n",
    "    # Display lambda\n",
    "    res = execute(qc, backend_qasm, shots=nShots).result() \n",
    "    counts = res.get_counts()\n",
    "    plot_histogram(counts)   \n",
    "\n",
    "    ## Need to return these items??\n",
    "    # A classical bit string approximating |λ⟩ to precision ϵ, a list of the M′ fit functions that comprise |λ⟩ and |⟨y|I(F)|λ⟩|2 calculated to precision δ\n"
   ]
  }
 ],
 "metadata": {
  "kernelspec": {
   "display_name": "Python 3 (ipykernel)",
   "language": "python",
   "name": "python3"
  },
  "language_info": {
   "codemirror_mode": {
    "name": "ipython",
    "version": 3
   },
   "file_extension": ".py",
   "mimetype": "text/x-python",
   "name": "python",
   "nbconvert_exporter": "python",
   "pygments_lexer": "ipython3",
   "version": "3.11.5"
  }
 },
 "nbformat": 4,
 "nbformat_minor": 5
}
